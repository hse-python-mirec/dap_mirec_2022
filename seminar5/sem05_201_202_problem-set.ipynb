{
 "cells": [
  {
   "cell_type": "code",
   "execution_count": 2,
   "metadata": {
    "id": "qpMBmye2oso-"
   },
   "outputs": [],
   "source": [
    "import numpy as np\n",
    "import pandas as pd\n",
    "\n",
    "import seaborn as sns\n",
    "import matplotlib.pyplot as plt\n",
    "\n",
    "from scipy import stats\n",
    "import statsmodels as sts \n",
    "\n",
    "plt.style.use('ggplot')\n"
   ]
  },
  {
   "cell_type": "markdown",
   "metadata": {
    "id": "ubnkHCkfospB"
   },
   "source": [
    "# Задания"
   ]
  },
  {
   "cell_type": "markdown",
   "metadata": {},
   "source": [
    "Задачи, которые описаны исключительно текстом, из демонстрационного варианта НЭ по анализу данных."
   ]
  },
  {
   "cell_type": "markdown",
   "metadata": {
    "id": "Xi3njNpSospD"
   },
   "source": [
    "### Д.И. для кол-ва пчёл"
   ]
  },
  {
   "cell_type": "markdown",
   "metadata": {
    "id": "K8fF6pdlsisj"
   },
   "source": [
    "Винни-Пух в течение 150 дней фиксировал изменения количества пчёл в улье. Он уверен, что полученные наблюдения являются выборкой независимых одинаково распределённых нормальных случайных величин. Оказалось, что среднее количество пчёл равно 25000, а выборочная дисперсия равна 1300. Постройте 95%-ый доверительный интервал для математического ожидания количества пчёл в улье. "
   ]
  },
  {
   "cell_type": "code",
   "execution_count": null,
   "metadata": {
    "id": "2mQoLRDqospE"
   },
   "outputs": [],
   "source": []
  },
  {
   "cell_type": "markdown",
   "metadata": {
    "id": "l1_6Y0ImospF"
   },
   "source": [
    "### Время забега"
   ]
  },
  {
   "cell_type": "code",
   "execution_count": 2,
   "metadata": {
    "id": "B51pYo5xospF",
    "outputId": "e9a89832-0eaf-404a-eff2-845660cef478"
   },
   "outputs": [
    {
     "data": {
      "text/html": [
       "<div>\n",
       "<style scoped>\n",
       "    .dataframe tbody tr th:only-of-type {\n",
       "        vertical-align: middle;\n",
       "    }\n",
       "\n",
       "    .dataframe tbody tr th {\n",
       "        vertical-align: top;\n",
       "    }\n",
       "\n",
       "    .dataframe thead th {\n",
       "        text-align: right;\n",
       "    }\n",
       "</style>\n",
       "<table border=\"1\" class=\"dataframe\">\n",
       "  <thead>\n",
       "    <tr style=\"text-align: right;\">\n",
       "      <th></th>\n",
       "      <th>Athlete</th>\n",
       "      <th>MileMinDur</th>\n",
       "      <th>MileSecDur</th>\n",
       "    </tr>\n",
       "  </thead>\n",
       "  <tbody>\n",
       "    <tr>\n",
       "      <th>0</th>\n",
       "      <td>0</td>\n",
       "      <td>0:06:21</td>\n",
       "      <td>381</td>\n",
       "    </tr>\n",
       "    <tr>\n",
       "      <th>1</th>\n",
       "      <td>0</td>\n",
       "      <td>0:07:00</td>\n",
       "      <td>420</td>\n",
       "    </tr>\n",
       "    <tr>\n",
       "      <th>2</th>\n",
       "      <td>0</td>\n",
       "      <td>0:12:44</td>\n",
       "      <td>764</td>\n",
       "    </tr>\n",
       "    <tr>\n",
       "      <th>3</th>\n",
       "      <td>1</td>\n",
       "      <td>0:06:25</td>\n",
       "      <td>385</td>\n",
       "    </tr>\n",
       "    <tr>\n",
       "      <th>4</th>\n",
       "      <td>1</td>\n",
       "      <td>0:07:24</td>\n",
       "      <td>444</td>\n",
       "    </tr>\n",
       "  </tbody>\n",
       "</table>\n",
       "</div>"
      ],
      "text/plain": [
       "   Athlete MileMinDur  MileSecDur\n",
       "0        0    0:06:21         381\n",
       "1        0    0:07:00         420\n",
       "2        0    0:12:44         764\n",
       "3        1    0:06:25         385\n",
       "4        1    0:07:24         444"
      ]
     },
     "execution_count": 2,
     "metadata": {},
     "output_type": "execute_result"
    }
   ],
   "source": [
    "df = pd.read_csv('../data/Running.csv')\n",
    "\n",
    "# Переведем время в колонке MileMinDur в секунды и запишем в новую колонку\n",
    "df['MileSecDur'] = df['MileMinDur'].apply(lambda x: int(x.split(':')[1])*60 + int(x.split(':')[2]))\n",
    "\n",
    "df.head()"
   ]
  },
  {
   "cell_type": "markdown",
   "metadata": {
    "id": "8Sr4wYf2ospG"
   },
   "source": [
    "- **Athlete** - является студент спортсменом или нет\n",
    "- **MileMinDur** - время, за которое пробегает студент 1 милю"
   ]
  },
  {
   "cell_type": "markdown",
   "metadata": {
    "id": "AuPNsqsGospG"
   },
   "source": [
    "На уровне значимости $\\alpha=0.05$ протестируйте гипотезу о том, что спортстмены пробегают 1 милю быстрее. Посчитайте статистику, p-value и сделайте вывод."
   ]
  },
  {
   "cell_type": "code",
   "execution_count": null,
   "metadata": {
    "id": "UHgKiOk2ospG"
   },
   "outputs": [],
   "source": []
  },
  {
   "cell_type": "markdown",
   "metadata": {
    "id": "sGy0d3JjospH"
   },
   "source": [
    "### Количество осадков"
   ]
  },
  {
   "cell_type": "markdown",
   "metadata": {
    "id": "7HB3yW6LscYp"
   },
   "source": [
    "Ниже приведены данные об уровнях осадков в двух различных регионах России, измеренные за одинаковые промежутки времени. Предполагая, что все необходимые предпосылки выполнены, дисперсии генеральных совокупностей равны, а выборки независимы, проверьте гипотезу о равенстве средних уровней осадков при помощи t-теста на уровне значимости 5%.\n",
    "\n",
    "Регион 1: `[103.01,101.99,105.21,106.80,112.70,106.13,110.48,109.26,100.44,100.28]`.\n",
    "\n",
    "Регион 2: `[107.38,106.31,106.00,105.27,105.27,104.66,103.70,105.07,105.12,104.74]`.\n",
    "\n",
    "Посчитайте статистику, p-value и сделайте вывод.\n"
   ]
  },
  {
   "cell_type": "code",
   "execution_count": 3,
   "metadata": {
    "id": "Y2tQG1GeospH"
   },
   "outputs": [],
   "source": [
    "region_1 = [103.01, 101.99, 105.21, 106.80, 112.70, 106.13, 110.48, 109.26, 100.44, 100.28]\n",
    "region_2 = [107.38, 106.31, 106.00, 105.27, 105.27, 104.66, 103.70, 105.07, 105.12, 104.74]"
   ]
  },
  {
   "cell_type": "code",
   "execution_count": null,
   "metadata": {
    "id": "c71Y2JpwospH"
   },
   "outputs": [],
   "source": []
  },
  {
   "cell_type": "markdown",
   "metadata": {
    "id": "Os8ITyIIospI"
   },
   "source": [
    "### Корреляция"
   ]
  },
  {
   "cell_type": "markdown",
   "metadata": {
    "id": "Tx3I2tths29a"
   },
   "source": [
    "Выберите две переменные, между которыми возможно рассчитать интерпретируемый коэффициент выборочной корреляции, и вычислите этот коэффициент по приведённым данным. Ответ округлите до сотых.\n",
    "Переменные:\n",
    "- Цвет автомобиля, закодированный числами (1 - синий, 2 - красный, 3 - зелёный): `1, 1, 2, 3, 2]`\n",
    "- Истинный объём бака автомобиля (л): `[50.1, 53.2, 55.0, 55.0, 50.2]`\n",
    "- Пройденный километраж (тыс. км): `[15.2, 4.75, 1.2, 1.9, 9.3]`\n",
    "\n",
    "Выберите верный вариант ответа\n",
    "- (a)\t0.21\n",
    "- (b)\t-0.59\n",
    "- (c)\t-0.41\n",
    "- (d)\t-0.94"
   ]
  },
  {
   "cell_type": "markdown",
   "metadata": {
    "id": "oSRgvkOuospI"
   },
   "source": [
    "На уровне значимости $\\alpha=0.05$ дополнительно протестируйте гипотезу о равенстве нулю корреляции."
   ]
  },
  {
   "cell_type": "code",
   "execution_count": 4,
   "metadata": {
    "id": "a8MfkS4nospI"
   },
   "outputs": [],
   "source": [
    "c = [1,1,2,3,2]\n",
    "v = [50.1, 53.2, 55.0, 55.0, 50.2]\n",
    "km = [15.2, 4.75, 1.2, 1.9, 9.3]"
   ]
  },
  {
   "cell_type": "code",
   "execution_count": null,
   "metadata": {
    "id": "nx_zvVTQospI"
   },
   "outputs": [],
   "source": []
  },
  {
   "cell_type": "markdown",
   "metadata": {
    "id": "S0KtOeinospI"
   },
   "source": [
    "### heart (критерий Пирсона)"
   ]
  },
  {
   "cell_type": "code",
   "execution_count": 8,
   "metadata": {
    "id": "_YVjGElJospI",
    "outputId": "c5dca300-f531-4a08-c399-ebc873d767be"
   },
   "outputs": [
    {
     "data": {
      "text/html": [
       "<div>\n",
       "<style scoped>\n",
       "    .dataframe tbody tr th:only-of-type {\n",
       "        vertical-align: middle;\n",
       "    }\n",
       "\n",
       "    .dataframe tbody tr th {\n",
       "        vertical-align: top;\n",
       "    }\n",
       "\n",
       "    .dataframe thead th {\n",
       "        text-align: right;\n",
       "    }\n",
       "</style>\n",
       "<table border=\"1\" class=\"dataframe\">\n",
       "  <thead>\n",
       "    <tr style=\"text-align: right;\">\n",
       "      <th></th>\n",
       "      <th>age</th>\n",
       "      <th>sex</th>\n",
       "      <th>cp</th>\n",
       "      <th>trestbps</th>\n",
       "      <th>chol</th>\n",
       "      <th>fbs</th>\n",
       "      <th>restecg</th>\n",
       "      <th>thalach</th>\n",
       "      <th>exang</th>\n",
       "      <th>target</th>\n",
       "    </tr>\n",
       "  </thead>\n",
       "  <tbody>\n",
       "    <tr>\n",
       "      <th>0</th>\n",
       "      <td>63</td>\n",
       "      <td>male</td>\n",
       "      <td>3</td>\n",
       "      <td>145</td>\n",
       "      <td>233</td>\n",
       "      <td>1</td>\n",
       "      <td>0</td>\n",
       "      <td>150</td>\n",
       "      <td>0</td>\n",
       "      <td>ill</td>\n",
       "    </tr>\n",
       "    <tr>\n",
       "      <th>1</th>\n",
       "      <td>37</td>\n",
       "      <td>male</td>\n",
       "      <td>2</td>\n",
       "      <td>130</td>\n",
       "      <td>250</td>\n",
       "      <td>0</td>\n",
       "      <td>1</td>\n",
       "      <td>187</td>\n",
       "      <td>0</td>\n",
       "      <td>ill</td>\n",
       "    </tr>\n",
       "    <tr>\n",
       "      <th>2</th>\n",
       "      <td>41</td>\n",
       "      <td>female</td>\n",
       "      <td>1</td>\n",
       "      <td>130</td>\n",
       "      <td>204</td>\n",
       "      <td>0</td>\n",
       "      <td>0</td>\n",
       "      <td>172</td>\n",
       "      <td>0</td>\n",
       "      <td>ill</td>\n",
       "    </tr>\n",
       "    <tr>\n",
       "      <th>3</th>\n",
       "      <td>56</td>\n",
       "      <td>male</td>\n",
       "      <td>1</td>\n",
       "      <td>120</td>\n",
       "      <td>236</td>\n",
       "      <td>0</td>\n",
       "      <td>1</td>\n",
       "      <td>178</td>\n",
       "      <td>0</td>\n",
       "      <td>ill</td>\n",
       "    </tr>\n",
       "    <tr>\n",
       "      <th>4</th>\n",
       "      <td>57</td>\n",
       "      <td>female</td>\n",
       "      <td>0</td>\n",
       "      <td>120</td>\n",
       "      <td>354</td>\n",
       "      <td>0</td>\n",
       "      <td>1</td>\n",
       "      <td>163</td>\n",
       "      <td>1</td>\n",
       "      <td>ill</td>\n",
       "    </tr>\n",
       "  </tbody>\n",
       "</table>\n",
       "</div>"
      ],
      "text/plain": [
       "   age     sex  cp  trestbps  chol  fbs  restecg  thalach  exang target\n",
       "0   63    male   3       145   233    1        0      150      0    ill\n",
       "1   37    male   2       130   250    0        1      187      0    ill\n",
       "2   41  female   1       130   204    0        0      172      0    ill\n",
       "3   56    male   1       120   236    0        1      178      0    ill\n",
       "4   57  female   0       120   354    0        1      163      1    ill"
      ]
     },
     "execution_count": 8,
     "metadata": {},
     "output_type": "execute_result"
    }
   ],
   "source": [
    "df = pd.read_csv('../data/heart.csv')\n",
    "\n",
    "df['sex'] = df['sex'].map({1:'male', 0:'female'})\n",
    "df['target'] = df['target'].map({1:'ill', 0:'healthy'})\n",
    "\n",
    "df.head()"
   ]
  },
  {
   "cell_type": "markdown",
   "metadata": {
    "id": "Jyc6xNiEospJ"
   },
   "source": [
    "- **sex** - категориальная переменная, является ли поступивший пациент мужчиной (кодируется 1) или женщиной (кодируется 0)\n",
    "- **target** - было ли диагностировано сердечно-сосудистое заболевание у пациента или нет\n"
   ]
  },
  {
   "cell_type": "markdown",
   "metadata": {
    "id": "u6IlhxYuu1uV"
   },
   "source": [
    "На уровне значимости $\\alpha=0.05$ протестируйте гипотезу о независимости этих двух переменных с помощью Критерия Пирсона и стандартного нормального распределения. Посчитайте статистики, p-value и сделайте вывод."
   ]
  },
  {
   "cell_type": "code",
   "execution_count": 6,
   "metadata": {
    "id": "Og3IoZuYospJ",
    "outputId": "db11f61f-bd25-4a6c-e4a4-b91462fa04a4"
   },
   "outputs": [],
   "source": [
    "agg = df.pivot_table(index='sex', columns='target', values='age', aggfunc='count')"
   ]
  },
  {
   "cell_type": "markdown",
   "metadata": {
    "id": "yEXfboPHospJ"
   },
   "source": [
    "### Афросинья (критерий Пирсона)"
   ]
  },
  {
   "cell_type": "markdown",
   "metadata": {
    "id": "uS0ygN9EtGZ8"
   },
   "source": [
    "Бабушка Афросинья хочет проверить, существует ли зависимость между сортом баклажана и типом почвы, в которую сорт был высажен. Для этого она собрала данные по 150 сортам, высаженных в чернозём, и 150 сортам, высаженных в каштановую почву. Данные представлены в таблице ниже.\n",
    "\n",
    "\n",
    "| Почва/сорт | Алмаз | Матросик | Снежный |\n",
    "|-|-|-|-|\n",
    "| Чернозёмная почва | 75 | 20 | 55 |\n",
    "| Каштановая почва | 20 | 120 | 10 |\n"
   ]
  },
  {
   "cell_type": "markdown",
   "metadata": {
    "id": "KioGFuPhospJ"
   },
   "source": [
    "На уровне значимости $\\alpha=0.05$ протестируйте гипотезу о независимости этих двух переменных с помощью Критерия Пирсона. Посчитайте статистику, p-value и напишите вывод."
   ]
  },
  {
   "cell_type": "markdown",
   "metadata": {
    "id": "x1kVLPlcospJ"
   },
   "source": [
    "### Ошибки 1-2 рода"
   ]
  },
  {
   "cell_type": "markdown",
   "metadata": {
    "id": "vYw3-QM7uvCe"
   },
   "source": [
    "Соотнесите ситуацию и тип ошибки (I или II рода). Объясните свой выбор.\n",
    "\n",
    "Ситуация 1: Студент получил оценку «неудовлетворительно» за взятый им курс. Предположим, что он формулировал нулевую гипотезу так: «Это достаточно простой курс, за который легко получить отличную оценку».\n",
    "\n",
    "Ситуация 2: Элизабет вышла на прогулку без зонта, однако вскоре пошёл сильный дождь. Предположим, что она формулировала нулевую гипотезу так: «Сегодня будет дождь»."
   ]
  },
  {
   "cell_type": "code",
   "execution_count": null,
   "metadata": {},
   "outputs": [],
   "source": []
  }
 ],
 "metadata": {
  "colab": {
   "collapsed_sections": [],
   "name": "sem05_problem-set.ipynb",
   "provenance": [],
   "toc_visible": true
  },
  "gist": {
   "data": {
    "description": "",
    "public": false
   },
   "id": ""
  },
  "kernelspec": {
   "display_name": "Python 3 (ipykernel)",
   "language": "python",
   "name": "python3"
  },
  "language_info": {
   "codemirror_mode": {
    "name": "ipython",
    "version": 3
   },
   "file_extension": ".py",
   "mimetype": "text/x-python",
   "name": "python",
   "nbconvert_exporter": "python",
   "pygments_lexer": "ipython3",
   "version": "3.10.4"
  },
  "toc": {
   "base_numbering": 1,
   "nav_menu": {},
   "number_sections": false,
   "sideBar": true,
   "skip_h1_title": false,
   "title_cell": "Table of Contents",
   "title_sidebar": "Contents",
   "toc_cell": false,
   "toc_position": {
    "height": "calc(100% - 180px)",
    "left": "10px",
    "top": "150px",
    "width": "288px"
   },
   "toc_section_display": true,
   "toc_window_display": true
  }
 },
 "nbformat": 4,
 "nbformat_minor": 1
}
