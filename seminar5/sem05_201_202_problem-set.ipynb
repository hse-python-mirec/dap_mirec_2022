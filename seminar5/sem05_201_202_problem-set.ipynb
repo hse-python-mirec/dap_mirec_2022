{
 "cells": [
  {
   "cell_type": "code",
   "execution_count": null,
   "metadata": {
    "id": "qpMBmye2oso-"
   },
   "outputs": [],
   "source": [
    "import numpy as np\n",
    "import pandas as pd\n",
    "\n",
    "import seaborn as sns\n",
    "import matplotlib.pyplot as plt\n",
    "\n",
    "from scipy import stats\n",
    "import statsmodels as sts \n",
    "\n",
    "plt.style.use('ggplot')\n"
   ]
  },
  {
   "cell_type": "markdown",
   "metadata": {
    "id": "ubnkHCkfospB"
   },
   "source": [
    "# Задания"
   ]
  },
  {
   "cell_type": "markdown",
   "metadata": {},
   "source": [
    "Задачи, которые описаны исключительно текстом, из демонстрационного варианта НЭ по анализу данных."
   ]
  },
  {
   "cell_type": "markdown",
   "metadata": {
    "id": "Xi3njNpSospD"
   },
   "source": [
    "### Д.И. для кол-ва пчёл"
   ]
  },
  {
   "cell_type": "markdown",
   "metadata": {
    "id": "K8fF6pdlsisj"
   },
   "source": [
    "Винни-Пух в течение 150 дней фиксировал изменения количества пчёл в улье. Он уверен, что полученные наблюдения являются выборкой независимых одинаково распределённых нормальных случайных величин. Оказалось, что среднее количество пчёл равно 25000, а выборочная дисперсия равна 1300. Постройте 95%-ый доверительный интервал для математического ожидания количества пчёл в улье. "
   ]
  },
  {
   "cell_type": "code",
   "execution_count": null,
   "metadata": {
    "id": "2mQoLRDqospE"
   },
   "outputs": [],
   "source": []
  },
  {
   "cell_type": "markdown",
   "metadata": {
    "id": "l1_6Y0ImospF"
   },
   "source": [
    "### Время забега"
   ]
  },
  {
   "cell_type": "code",
   "execution_count": null,
   "metadata": {
    "id": "B51pYo5xospF",
    "outputId": "e9a89832-0eaf-404a-eff2-845660cef478"
   },
   "outputs": [],
   "source": [
    "df = pd.read_csv('../data/Running.csv')\n",
    "\n",
    "# Переведем время в колонке MileMinDur в секунды и запишем в новую колонку\n",
    "df['MileSecDur'] = df['MileMinDur'].apply(lambda x: int(x.split(':')[1])*60 + int(x.split(':')[2]))\n",
    "\n",
    "df.head()"
   ]
  },
  {
   "cell_type": "markdown",
   "metadata": {
    "id": "8Sr4wYf2ospG"
   },
   "source": [
    "- **Athlete** - является студент спортсменом или нет\n",
    "- **MileMinDur** - время, за которое пробегает студент 1 милю"
   ]
  },
  {
   "cell_type": "markdown",
   "metadata": {
    "id": "AuPNsqsGospG"
   },
   "source": [
    "На уровне значимости $\\alpha=0.05$ протестируйте гипотезу о том, что спортстмены пробегают 1 милю быстрее. Посчитайте статистику, p-value и сделайте вывод."
   ]
  },
  {
   "cell_type": "code",
   "execution_count": null,
   "metadata": {
    "id": "UHgKiOk2ospG"
   },
   "outputs": [],
   "source": []
  },
  {
   "cell_type": "markdown",
   "metadata": {
    "id": "sGy0d3JjospH"
   },
   "source": [
    "### Количество осадков"
   ]
  },
  {
   "cell_type": "markdown",
   "metadata": {
    "id": "7HB3yW6LscYp"
   },
   "source": [
    "Ниже приведены данные об уровнях осадков в двух различных регионах России, измеренные за одинаковые промежутки времени. Предполагая, что все необходимые предпосылки выполнены, дисперсии генеральных совокупностей равны, а выборки независимы, проверьте гипотезу о равенстве средних уровней осадков при помощи t-теста на уровне значимости 5%.\n",
    "\n",
    "Регион 1: `[103.01,101.99,105.21,106.80,112.70,106.13,110.48,109.26,100.44,100.28]`.\n",
    "\n",
    "Регион 2: `[107.38,106.31,106.00,105.27,105.27,104.66,103.70,105.07,105.12,104.74]`.\n",
    "\n",
    "Посчитайте статистику, p-value и сделайте вывод.\n"
   ]
  },
  {
   "cell_type": "code",
   "execution_count": null,
   "metadata": {
    "id": "Y2tQG1GeospH"
   },
   "outputs": [],
   "source": [
    "region_1 = [103.01, 101.99, 105.21, 106.80, 112.70, 106.13, 110.48, 109.26, 100.44, 100.28]\n",
    "region_2 = [107.38, 106.31, 106.00, 105.27, 105.27, 104.66, 103.70, 105.07, 105.12, 104.74]"
   ]
  },
  {
   "cell_type": "code",
   "execution_count": null,
   "metadata": {
    "id": "c71Y2JpwospH"
   },
   "outputs": [],
   "source": []
  },
  {
   "cell_type": "markdown",
   "metadata": {
    "id": "Os8ITyIIospI"
   },
   "source": [
    "### Корреляция"
   ]
  },
  {
   "cell_type": "markdown",
   "metadata": {
    "id": "Tx3I2tths29a"
   },
   "source": [
    "Выберите две переменные, между которыми возможно рассчитать интерпретируемый коэффициент выборочной корреляции, и вычислите этот коэффициент по приведённым данным. Ответ округлите до сотых.\n",
    "Переменные:\n",
    "- Цвет автомобиля, закодированный числами (1 - синий, 2 - красный, 3 - зелёный): `1, 1, 2, 3, 2]`\n",
    "- Истинный объём бака автомобиля (л): `[50.1, 53.2, 55.0, 55.0, 50.2]`\n",
    "- Пройденный километраж (тыс. км): `[15.2, 4.75, 1.2, 1.9, 9.3]`\n",
    "\n",
    "Выберите верный вариант ответа\n",
    "- (a)\t0.21\n",
    "- (b)\t-0.59\n",
    "- (c)\t-0.41\n",
    "- (d)\t-0.94"
   ]
  },
  {
   "cell_type": "markdown",
   "metadata": {
    "id": "oSRgvkOuospI"
   },
   "source": [
    "На уровне значимости $\\alpha=0.05$ дополнительно протестируйте гипотезу о равенстве нулю корреляции."
   ]
  },
  {
   "cell_type": "code",
   "execution_count": null,
   "metadata": {
    "id": "a8MfkS4nospI"
   },
   "outputs": [],
   "source": [
    "c = [1,1,2,3,2]\n",
    "v = [50.1, 53.2, 55.0, 55.0, 50.2]\n",
    "km = [15.2, 4.75, 1.2, 1.9, 9.3]"
   ]
  },
  {
   "cell_type": "code",
   "execution_count": null,
   "metadata": {
    "id": "nx_zvVTQospI"
   },
   "outputs": [],
   "source": []
  },
  {
   "cell_type": "markdown",
   "metadata": {
    "id": "S0KtOeinospI"
   },
   "source": [
    "### heart (критерий Пирсона)"
   ]
  },
  {
   "cell_type": "code",
   "execution_count": null,
   "metadata": {
    "id": "_YVjGElJospI",
    "outputId": "c5dca300-f531-4a08-c399-ebc873d767be"
   },
   "outputs": [],
   "source": [
    "df = pd.read_csv('../data/heart.csv')\n",
    "\n",
    "df['sex'] = df['sex'].map({1:'male', 0:'female'})\n",
    "df['target'] = df['target'].map({1:'ill', 0:'healthy'})\n",
    "\n",
    "df.head()"
   ]
  },
  {
   "cell_type": "markdown",
   "metadata": {
    "id": "Jyc6xNiEospJ"
   },
   "source": [
    "- **sex** - категориальная переменная, является ли поступивший пациент мужчиной (кодируется 1) или женщиной (кодируется 0)\n",
    "- **target** - было ли диагностировано сердечно-сосудистое заболевание у пациента или нет\n"
   ]
  },
  {
   "cell_type": "markdown",
   "metadata": {
    "id": "u6IlhxYuu1uV"
   },
   "source": [
    "На уровне значимости $\\alpha=0.05$ протестируйте гипотезу о независимости этих двух переменных с помощью Критерия Пирсона и стандартного нормального распределения. Посчитайте статистики, p-value и сделайте вывод."
   ]
  },
  {
   "cell_type": "code",
   "execution_count": null,
   "metadata": {
    "id": "Og3IoZuYospJ",
    "outputId": "db11f61f-bd25-4a6c-e4a4-b91462fa04a4"
   },
   "outputs": [],
   "source": [
    "agg = df.pivot_table(index='sex', columns='target', values='age', aggfunc='count')\n",
    "agg"
   ]
  },
  {
   "cell_type": "code",
   "execution_count": null,
   "metadata": {},
   "outputs": [],
   "source": [
    "agg.plot(kind='bar');"
   ]
  },
  {
   "cell_type": "code",
   "execution_count": null,
   "metadata": {},
   "outputs": [],
   "source": []
  },
  {
   "cell_type": "markdown",
   "metadata": {
    "id": "yEXfboPHospJ"
   },
   "source": [
    "### Афросинья (критерий Пирсона)"
   ]
  },
  {
   "cell_type": "markdown",
   "metadata": {
    "id": "uS0ygN9EtGZ8"
   },
   "source": [
    "Бабушка Афросинья хочет проверить, существует ли зависимость между сортом баклажана и типом почвы, в которую сорт был высажен. Для этого она собрала данные по 150 сортам, высаженных в чернозём, и 150 сортам, высаженных в каштановую почву. Данные представлены в таблице ниже.\n",
    "\n",
    "\n",
    "| Почва/сорт | Алмаз | Матросик | Снежный |\n",
    "|-|-|-|-|\n",
    "| Чернозёмная почва | 75 | 20 | 55 |\n",
    "| Каштановая почва | 20 | 120 | 10 |\n"
   ]
  },
  {
   "cell_type": "markdown",
   "metadata": {
    "id": "KioGFuPhospJ"
   },
   "source": [
    "На уровне значимости $\\alpha=0.05$ протестируйте гипотезу о независимости этих двух переменных с помощью Критерия Пирсона. Посчитайте статистику, p-value и напишите вывод."
   ]
  },
  {
   "cell_type": "code",
   "execution_count": null,
   "metadata": {},
   "outputs": [],
   "source": []
  },
  {
   "cell_type": "markdown",
   "metadata": {
    "id": "x1kVLPlcospJ"
   },
   "source": [
    "### Ошибки 1-2 рода"
   ]
  },
  {
   "cell_type": "markdown",
   "metadata": {
    "id": "vYw3-QM7uvCe"
   },
   "source": [
    "Соотнесите ситуацию и тип ошибки (I или II рода). Объясните свой выбор.\n",
    "\n",
    "Ситуация 1: Студент получил оценку «неудовлетворительно» за взятый им курс. Предположим, что он формулировал нулевую гипотезу так: «Это достаточно простой курс, за который легко получить отличную оценку».\n",
    "\n",
    "Ситуация 2: Элизабет вышла на прогулку без зонта, однако вскоре пошёл сильный дождь. Предположим, что она формулировала нулевую гипотезу так: «Сегодня будет дождь»."
   ]
  },
  {
   "cell_type": "markdown",
   "metadata": {},
   "source": []
  }
 ],
 "metadata": {
  "colab": {
   "collapsed_sections": [],
   "name": "sem05_problem-set.ipynb",
   "provenance": [],
   "toc_visible": true
  },
  "gist": {
   "data": {
    "description": "",
    "public": false
   },
   "id": ""
  },
  "kernelspec": {
   "display_name": "Python 3 (ipykernel)",
   "language": "python",
   "name": "python3"
  },
  "language_info": {
   "codemirror_mode": {
    "name": "ipython",
    "version": 3
   },
   "file_extension": ".py",
   "mimetype": "text/x-python",
   "name": "python",
   "nbconvert_exporter": "python",
   "pygments_lexer": "ipython3",
   "version": "3.10.4"
  },
  "toc": {
   "base_numbering": 1,
   "nav_menu": {},
   "number_sections": false,
   "sideBar": true,
   "skip_h1_title": false,
   "title_cell": "Table of Contents",
   "title_sidebar": "Contents",
   "toc_cell": false,
   "toc_position": {
    "height": "calc(100% - 180px)",
    "left": "10px",
    "top": "150px",
    "width": "288px"
   },
   "toc_section_display": true,
   "toc_window_display": true
  }
 },
 "nbformat": 4,
 "nbformat_minor": 1
}
