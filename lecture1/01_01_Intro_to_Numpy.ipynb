{
 "cells": [
  {
   "cell_type": "markdown",
   "metadata": {},
   "source": [
    "# Введение в NumPy"
   ]
  },
  {
   "cell_type": "code",
   "execution_count": null,
   "metadata": {},
   "outputs": [],
   "source": [
    "import numpy as np"
   ]
  },
  {
   "cell_type": "code",
   "execution_count": null,
   "metadata": {},
   "outputs": [],
   "source": [
    "# попробуем сложить два списка\n",
    "x = [2, 4, 5]\n",
    "y = [10, 4, 2]\n",
    "print(x + y) # выполнилась операция \"склейки\"\n",
    "print(type(x + y))"
   ]
  },
  {
   "cell_type": "code",
   "execution_count": null,
   "metadata": {},
   "outputs": [],
   "source": [
    "# попробуем сложить два массива numpy\n",
    "x_np = np.array(x)\n",
    "y_np = np.array(y)\n",
    "print(x_np + y_np) # выполнилось поэлементное сложение\n",
    "print(type(x_np + y_np))"
   ]
  },
  {
   "cell_type": "code",
   "execution_count": null,
   "metadata": {},
   "outputs": [],
   "source": [
    "print(x_np * 2) # умножим каждый элемент на два\n",
    "print(y_np ** 8) # возведем каждый элемент в восьмую степень"
   ]
  },
  {
   "cell_type": "code",
   "execution_count": null,
   "metadata": {},
   "outputs": [],
   "source": [
    "print(x_np > 3) # сравним каждый элемент с числом 3"
   ]
  },
  {
   "cell_type": "code",
   "execution_count": null,
   "metadata": {},
   "outputs": [],
   "source": [
    "print(x_np[x_np > 3]) # отфильтровали только значения, которые больше 3 "
   ]
  },
  {
   "cell_type": "code",
   "execution_count": null,
   "metadata": {},
   "outputs": [],
   "source": [
    "z_np = np.array(['cat', 1, 2.4, True])\n",
    "print(z_np)\n",
    "print(z_np.dtype)\n",
    "print(type(z_np[2]))"
   ]
  },
  {
   "cell_type": "code",
   "execution_count": null,
   "metadata": {},
   "outputs": [],
   "source": [
    "z_np = np.array([1, 2.4, True])\n",
    "print(z_np)\n",
    "print(z_np.dtype) # целое число и логическое значение превратились во float"
   ]
  },
  {
   "cell_type": "code",
   "execution_count": null,
   "metadata": {},
   "outputs": [],
   "source": [
    "z_np = np.array([1, True])\n",
    "print(z_np)\n",
    "print(z_np.dtype) # логическое значение превратилось в integer"
   ]
  },
  {
   "cell_type": "code",
   "execution_count": null,
   "metadata": {},
   "outputs": [],
   "source": [
    "z_np = np.array([True]) # и только одинокий True смог остаться сам собой\n",
    "print(z_np)"
   ]
  },
  {
   "cell_type": "code",
   "execution_count": null,
   "metadata": {},
   "outputs": [],
   "source": [
    "age = np.array([18, 20, 43, 23, 14, 52, 12])"
   ]
  },
  {
   "cell_type": "code",
   "execution_count": null,
   "metadata": {},
   "outputs": [],
   "source": [
    "print(age < 18)"
   ]
  },
  {
   "cell_type": "code",
   "execution_count": null,
   "metadata": {},
   "outputs": [],
   "source": [
    "print((age < 18) | (age >= 35)) #знак объединения для множеств"
   ]
  },
  {
   "cell_type": "code",
   "execution_count": null,
   "metadata": {},
   "outputs": [],
   "source": [
    "age[(age < 18) | (age >= 35)]"
   ]
  },
  {
   "cell_type": "code",
   "execution_count": null,
   "metadata": {},
   "outputs": [],
   "source": [
    "A = np.array([[2, 5, 7], [29, 4, 4]])\n",
    "print(A)"
   ]
  },
  {
   "cell_type": "code",
   "execution_count": null,
   "metadata": {},
   "outputs": [],
   "source": [
    "print(A.shape) # в массиве два ряда и три колонки\n",
    "print(A.ndim) # кол-во измерений"
   ]
  },
  {
   "cell_type": "code",
   "execution_count": null,
   "metadata": {},
   "outputs": [],
   "source": [
    "B = np.array([[[1,2,3], [4,5,6]], [[7,8,9], [10,11,12]]])\n",
    "print(B)\n",
    "print(B.shape)\n",
    "print(B.ndim)\n",
    "print(B.size)"
   ]
  },
  {
   "cell_type": "code",
   "execution_count": null,
   "metadata": {},
   "outputs": [],
   "source": [
    "print(A[0][1]) # выведи значение в первом ряду во второй колонке"
   ]
  },
  {
   "cell_type": "code",
   "execution_count": null,
   "metadata": {},
   "outputs": [],
   "source": [
    "print(A[0, 1]) # выведи значение в первом ряду во второй колонке\n",
    "print(A[:, 1]) # выведи все ряды (:), но только вторую колонку\n",
    "print(A[0, :]) # выведи только первый ряд, но все колонки\n",
    "print(A[0, 1:]) # выведи только первый ряд, только колонки со второй и до конца"
   ]
  },
  {
   "cell_type": "code",
   "execution_count": null,
   "metadata": {},
   "outputs": [],
   "source": [
    "print(A.size) # атрибут — показывает количество элементов в массиве \n",
    "print(A.mean()) # метод — находит среднее арифметическое массива"
   ]
  },
  {
   "cell_type": "code",
   "execution_count": null,
   "metadata": {},
   "outputs": [],
   "source": [
    "print(y_np.sum())"
   ]
  },
  {
   "cell_type": "markdown",
   "metadata": {},
   "source": [
    "### Эксперимент #1"
   ]
  },
  {
   "cell_type": "markdown",
   "metadata": {},
   "source": [
    "Вычислительные операции быстрее выполняются с массивами numpy чем со списками. Давайте создадим два списка из 1000000 случайных чисел и перемножим их.\n",
    "\n",
    "Сначала перемножаем элементы списка Python с помощью цикла for. Засекаем время начала и конца операции, выводим разницу."
   ]
  },
  {
   "cell_type": "code",
   "execution_count": 1,
   "metadata": {},
   "outputs": [
    {
     "name": "stdout",
     "output_type": "stream",
     "text": [
      "Сколько времени заняло перемножение списков? 0.10378694534301758 сек\n"
     ]
    }
   ],
   "source": [
    "import time\n",
    "\n",
    "# задаем размер наших списков\n",
    "size = 1000000  \n",
    "   \n",
    "# объявляем списки\n",
    "list1 = range(size)\n",
    "list2 = range(size)\n",
    "\n",
    "# запоминаем временную метку\n",
    "initial_time = time.time()\n",
    "  \n",
    "# перемножаем элементы списков\n",
    "result_list = [(a * b) for a, b in zip(list1, list2)]\n",
    "list_time = time.time() - initial_time\n",
    "\n",
    "# смотрим, сколько времени это заняло\n",
    "print(\"Сколько времени заняло перемножение списков?\", list_time, \"сек\")"
   ]
  },
  {
   "cell_type": "code",
   "execution_count": 3,
   "metadata": {},
   "outputs": [],
   "source": [
    "import numpy as np"
   ]
  },
  {
   "cell_type": "markdown",
   "metadata": {},
   "source": [
    "Теперь проделаем то же с массивами NumPy."
   ]
  },
  {
   "cell_type": "code",
   "execution_count": 4,
   "metadata": {},
   "outputs": [
    {
     "name": "stdout",
     "output_type": "stream",
     "text": [
      "Сколько времени заняло перемножение массивов numpy? 0.004893064498901367 сек.\n"
     ]
    }
   ],
   "source": [
    "# объявляем массивы numpy\n",
    "array1 = np.arange(size)  \n",
    "array2 = np.arange(size)\n",
    "   \n",
    "# запоминаем временную метку\n",
    "initial_time = time.time()\n",
    "  \n",
    "# перемножаем массивы\n",
    "result_array = array1 * array2\n",
    "\n",
    "array_time = time.time() - initial_time\n",
    "\n",
    "# смотрим, сколько времени это заняло\n",
    "print(\"Сколько времени заняло перемножение массивов numpy?\", array_time, \"сек.\")"
   ]
  },
  {
   "cell_type": "code",
   "execution_count": 5,
   "metadata": {},
   "outputs": [
    {
     "name": "stdout",
     "output_type": "stream",
     "text": [
      "21\n"
     ]
    }
   ],
   "source": [
    "print(round(list_time/array_time))"
   ]
  },
  {
   "cell_type": "markdown",
   "metadata": {},
   "source": [
    "### Эксперимент #2"
   ]
  },
  {
   "cell_type": "markdown",
   "metadata": {},
   "source": [
    "Теперь давайте убедимся, почему использовать метод `.sum()` для массивов NumPy предпочтительней, чем функцию `sum()` из стандарной библиотеки Python. Также создадим список из 1000000 случайных чисел и просуммируем их разными способами."
   ]
  },
  {
   "cell_type": "code",
   "execution_count": null,
   "metadata": {},
   "outputs": [],
   "source": [
    "size = 1000000  \n",
    "list1 = range(size)\n",
    "array1 = np.array(list1)\n",
    "\n",
    "initial_time = time.time()\n",
    "list_sum = sum(list1) # складываем числа списка Python стандартной функцией\n",
    "sum1_time = time.time() - initial_time\n",
    "\n",
    "initial_time = time.time()\n",
    "array_sum = array1.sum() # складываем числа массива NumPy методом массива\n",
    "sum2_time = time.time() - initial_time\n",
    "\n",
    "initial_time = time.time()\n",
    "array2_sum = sum(array1) # складываем числа массива NumPy стандартной функцией\n",
    "sum3_time = time.time() - initial_time\n",
    "\n",
    "print('Находим сумму элементов списка с функцией sum():', sum1_time)\n",
    "print('Находим сумму элементов массива с нативным методом .sum():', sum2_time)\n",
    "print('Находим сумму элементов массива с функцией .sum():', sum3_time)"
   ]
  },
  {
   "cell_type": "code",
   "execution_count": null,
   "metadata": {},
   "outputs": [],
   "source": []
  }
 ],
 "metadata": {
  "kernelspec": {
   "display_name": "Python 3 (ipykernel)",
   "language": "python",
   "name": "python3"
  },
  "language_info": {
   "codemirror_mode": {
    "name": "ipython",
    "version": 3
   },
   "file_extension": ".py",
   "mimetype": "text/x-python",
   "name": "python",
   "nbconvert_exporter": "python",
   "pygments_lexer": "ipython3",
   "version": "3.10.4"
  }
 },
 "nbformat": 4,
 "nbformat_minor": 4
}
