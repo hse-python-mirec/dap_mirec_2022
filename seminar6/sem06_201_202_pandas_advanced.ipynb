{
 "cells": [
  {
   "cell_type": "markdown",
   "id": "6d7f2620",
   "metadata": {
    "toc": true
   },
   "source": [
    "<h1>Table of Contents<span class=\"tocSkip\"></span></h1>\n",
    "<div class=\"toc\"><ul class=\"toc-item\"><li><span><a href=\"#Соединения-таблиц\" data-toc-modified-id=\"Соединения-таблиц-1\">Соединения таблиц</a></span><ul class=\"toc-item\"><li><span><a href=\"#Join\" data-toc-modified-id=\"Join-1.1\">Join</a></span></li><li><span><a href=\"#Конкатенация-строк\" data-toc-modified-id=\"Конкатенация-строк-1.2\">Конкатенация строк</a></span></li><li><span><a href=\"#Пример-на-клипах-по-ютубу\" data-toc-modified-id=\"Пример-на-клипах-по-ютубу-1.3\">Пример на клипах по ютубу</a></span><ul class=\"toc-item\"><li><span><a href=\"#Задача-№1\" data-toc-modified-id=\"Задача-№1-1.3.1\"><strong>Задача №1</strong></a></span></li><li><span><a href=\"#Задача-№2\" data-toc-modified-id=\"Задача-№2-1.3.2\"><strong>Задача №2</strong></a></span></li></ul></li></ul></li><li><span><a href=\"#Типы-переменных\" data-toc-modified-id=\"Типы-переменных-2\">Типы переменных</a></span></li><li><span><a href=\"#Работа-с-категориальными-переменными\" data-toc-modified-id=\"Работа-с-категориальными-переменными-3\">Работа с категориальными переменными</a></span><ul class=\"toc-item\"><li><span><a href=\"#Когда-категории-две\" data-toc-modified-id=\"Когда-категории-две-3.1\">Когда категории две</a></span><ul class=\"toc-item\"><li><span><a href=\"#Задача-№3\" data-toc-modified-id=\"Задача-№3-3.1.1\"><strong>Задача №3</strong></a></span></li></ul></li><li><span><a href=\"#Когда-категорий-больше-двух\" data-toc-modified-id=\"Когда-категорий-больше-двух-3.2\">Когда категорий больше двух</a></span></li><li><span><a href=\"#Работа-с-датой-и-временем\" data-toc-modified-id=\"Работа-с-датой-и-временем-3.3\">Работа с датой и временем</a></span><ul class=\"toc-item\"><li><span><a href=\"#Задача-№4\" data-toc-modified-id=\"Задача-№4-3.3.1\"><strong>Задача №4</strong></a></span></li><li><span><a href=\"#Задача-№5\" data-toc-modified-id=\"Задача-№5-3.3.2\"><strong>Задача №5</strong></a></span></li><li><span><a href=\"#Задача-№6\" data-toc-modified-id=\"Задача-№6-3.3.3\"><strong>Задача №6</strong></a></span></li></ul></li></ul></li><li><span><a href=\"#Пропущенные-значения\" data-toc-modified-id=\"Пропущенные-значения-4\">Пропущенные значения</a></span><ul class=\"toc-item\"><li><span><a href=\"#Выявление\" data-toc-modified-id=\"Выявление-4.1\">Выявление</a></span></li><li><span><a href=\"#Удаление\" data-toc-modified-id=\"Удаление-4.2\">Удаление</a></span></li><li><span><a href=\"#Заполнение\" data-toc-modified-id=\"Заполнение-4.3\">Заполнение</a></span><ul class=\"toc-item\"><li><span><a href=\"#Задача-№7\" data-toc-modified-id=\"Задача-№7-4.3.1\"><strong>Задача №7</strong></a></span></li></ul></li></ul></li><li><span><a href=\"#Обнаружение-аномалий\" data-toc-modified-id=\"Обнаружение-аномалий-5\">Обнаружение аномалий</a></span><ul class=\"toc-item\"><li><span><a href=\"#Оцениваем-средний-рост-людей-в-школьном-классе:\" data-toc-modified-id=\"Оцениваем-средний-рост-людей-в-школьном-классе:-5.1\">Оцениваем средний рост людей в школьном классе:</a></span></li><li><span><a href=\"#Выявление-и-удаление-выбросов-на-примере-клипов:\" data-toc-modified-id=\"Выявление-и-удаление-выбросов-на-примере-клипов:-5.2\">Выявление и удаление выбросов на примере клипов:</a></span><ul class=\"toc-item\"><li><span><a href=\"#Задача-№8\" data-toc-modified-id=\"Задача-№8-5.2.1\"><strong>Задача №8</strong></a></span></li></ul></li></ul></li></ul></div>"
   ]
  },
  {
   "cell_type": "markdown",
   "id": "ae25a717",
   "metadata": {},
   "source": [
    "# Pandas: exploratory data analysis"
   ]
  },
  {
   "cell_type": "markdown",
   "id": "59cd8b6b",
   "metadata": {},
   "source": [
    "**План**\n",
    "* Соединения таблиц\n",
    "* Типы переменных\n",
    "* Работа с категориальными переменными\n",
    "* Работа с датой и временем\n",
    "* Пропущенные значения\n",
    "* Обнаружение аномалий"
   ]
  },
  {
   "cell_type": "code",
   "execution_count": 1,
   "id": "d9d65db0",
   "metadata": {},
   "outputs": [],
   "source": [
    "import numpy as np         # библиотека для матриц и математики\n",
    "import pandas as pd        # библиотека для работы с табличками\n",
    "from scipy import stats    # модуль для работы со статистикой\n",
    "\n",
    "# библиотеки для визуализации\n",
    "import matplotlib.pyplot as plt\n",
    "import seaborn as sns\n",
    "\n",
    "plt.style.use('ggplot')    # стиль графиков"
   ]
  },
  {
   "cell_type": "code",
   "execution_count": 2,
   "id": "b32ab8f4",
   "metadata": {},
   "outputs": [],
   "source": [
    "import warnings\n",
    "warnings.filterwarnings(\"ignore\")"
   ]
  },
  {
   "cell_type": "markdown",
   "id": "46818952",
   "metadata": {},
   "source": [
    "## Соединения таблиц"
   ]
  },
  {
   "cell_type": "markdown",
   "id": "3a46a851",
   "metadata": {},
   "source": [
    "Часто хранить информацию в одной таблице бывает довольно неудобно. Когда у вас очень крупная IT-компания, данных настолько много, что если их добавить в одну таблицу, работать с ней будет очень неэффективно по времени и памяти. Поэтому информацию кладут в кучу разных таблиц, а над ними строят специальные *отношения* - так называемые колонки, по которым можно эти таблицы объединять. \n",
    "\n",
    "Пример устройства такой структуры хранения данных:\n",
    "\n",
    "<center>\n",
    "<img src=\"https://progi.pro/media/main/82/d3/34/82d334f5b4b49d424a2460e796a30cd5.png\" height=\"200\" width=\"600\">\n",
    "</center>   "
   ]
  },
  {
   "cell_type": "markdown",
   "id": "6be695ea",
   "metadata": {},
   "source": [
    "### Join"
   ]
  },
  {
   "cell_type": "markdown",
   "id": "5ce3f54d",
   "metadata": {},
   "source": [
    "<center>\n",
    "<img src=\"https://community.qlik.com/legacyfs/online/87693_all-joins.png\" height=\"400\" width=\"400\">\n",
    "</center>"
   ]
  },
  {
   "cell_type": "code",
   "execution_count": 3,
   "id": "245abd35",
   "metadata": {},
   "outputs": [
    {
     "data": {
      "text/html": [
       "<div>\n",
       "<style scoped>\n",
       "    .dataframe tbody tr th:only-of-type {\n",
       "        vertical-align: middle;\n",
       "    }\n",
       "\n",
       "    .dataframe tbody tr th {\n",
       "        vertical-align: top;\n",
       "    }\n",
       "\n",
       "    .dataframe thead th {\n",
       "        text-align: right;\n",
       "    }\n",
       "</style>\n",
       "<table border=\"1\" class=\"dataframe\">\n",
       "  <thead>\n",
       "    <tr style=\"text-align: right;\">\n",
       "      <th></th>\n",
       "      <th>Student</th>\n",
       "      <th>group</th>\n",
       "    </tr>\n",
       "  </thead>\n",
       "  <tbody>\n",
       "    <tr>\n",
       "      <th>0</th>\n",
       "      <td>Tom</td>\n",
       "      <td>01</td>\n",
       "    </tr>\n",
       "    <tr>\n",
       "      <th>1</th>\n",
       "      <td>Ujin</td>\n",
       "      <td>02</td>\n",
       "    </tr>\n",
       "    <tr>\n",
       "      <th>2</th>\n",
       "      <td>Ann</td>\n",
       "      <td>02</td>\n",
       "    </tr>\n",
       "    <tr>\n",
       "      <th>3</th>\n",
       "      <td>Polina</td>\n",
       "      <td>01</td>\n",
       "    </tr>\n",
       "    <tr>\n",
       "      <th>4</th>\n",
       "      <td>Sam</td>\n",
       "      <td>02</td>\n",
       "    </tr>\n",
       "  </tbody>\n",
       "</table>\n",
       "</div>"
      ],
      "text/plain": [
       "  Student group\n",
       "0     Tom    01\n",
       "1    Ujin    02\n",
       "2     Ann    02\n",
       "3  Polina    01\n",
       "4     Sam    02"
      ]
     },
     "metadata": {},
     "output_type": "display_data"
    },
    {
     "data": {
      "text/html": [
       "<div>\n",
       "<style scoped>\n",
       "    .dataframe tbody tr th:only-of-type {\n",
       "        vertical-align: middle;\n",
       "    }\n",
       "\n",
       "    .dataframe tbody tr th {\n",
       "        vertical-align: top;\n",
       "    }\n",
       "\n",
       "    .dataframe thead th {\n",
       "        text-align: right;\n",
       "    }\n",
       "</style>\n",
       "<table border=\"1\" class=\"dataframe\">\n",
       "  <thead>\n",
       "    <tr style=\"text-align: right;\">\n",
       "      <th></th>\n",
       "      <th>Name</th>\n",
       "      <th>GPA</th>\n",
       "    </tr>\n",
       "  </thead>\n",
       "  <tbody>\n",
       "    <tr>\n",
       "      <th>0</th>\n",
       "      <td>Tom</td>\n",
       "      <td>7.8</td>\n",
       "    </tr>\n",
       "    <tr>\n",
       "      <th>1</th>\n",
       "      <td>Ujin</td>\n",
       "      <td>6.4</td>\n",
       "    </tr>\n",
       "    <tr>\n",
       "      <th>2</th>\n",
       "      <td>Ann</td>\n",
       "      <td>8.3</td>\n",
       "    </tr>\n",
       "    <tr>\n",
       "      <th>3</th>\n",
       "      <td>Polina</td>\n",
       "      <td>9</td>\n",
       "    </tr>\n",
       "    <tr>\n",
       "      <th>4</th>\n",
       "      <td>Kit</td>\n",
       "      <td>10</td>\n",
       "    </tr>\n",
       "  </tbody>\n",
       "</table>\n",
       "</div>"
      ],
      "text/plain": [
       "     Name  GPA\n",
       "0     Tom  7.8\n",
       "1    Ujin  6.4\n",
       "2     Ann  8.3\n",
       "3  Polina    9\n",
       "4     Kit   10"
      ]
     },
     "metadata": {},
     "output_type": "display_data"
    }
   ],
   "source": [
    "df1 = pd.DataFrame({'Student': ['Tom', 'Ujin', 'Ann', 'Polina','Sam'],\n",
    "                    'group': ['01', '02', '02', '01','02']})\n",
    "df2 = pd.DataFrame({'Name': ['Tom', 'Ujin', 'Ann', 'Polina', 'Kit'],\n",
    "                    'GPA': ['7.8', '6.4', '8.3', '9', '10']})\n",
    "display(df1, df2)"
   ]
  },
  {
   "cell_type": "code",
   "execution_count": 4,
   "id": "9ed21f58",
   "metadata": {},
   "outputs": [
    {
     "data": {
      "text/html": [
       "<div>\n",
       "<style scoped>\n",
       "    .dataframe tbody tr th:only-of-type {\n",
       "        vertical-align: middle;\n",
       "    }\n",
       "\n",
       "    .dataframe tbody tr th {\n",
       "        vertical-align: top;\n",
       "    }\n",
       "\n",
       "    .dataframe thead th {\n",
       "        text-align: right;\n",
       "    }\n",
       "</style>\n",
       "<table border=\"1\" class=\"dataframe\">\n",
       "  <thead>\n",
       "    <tr style=\"text-align: right;\">\n",
       "      <th></th>\n",
       "      <th>Student</th>\n",
       "      <th>group</th>\n",
       "      <th>Name</th>\n",
       "      <th>GPA</th>\n",
       "    </tr>\n",
       "  </thead>\n",
       "  <tbody>\n",
       "    <tr>\n",
       "      <th>0</th>\n",
       "      <td>Tom</td>\n",
       "      <td>01</td>\n",
       "      <td>Tom</td>\n",
       "      <td>7.8</td>\n",
       "    </tr>\n",
       "    <tr>\n",
       "      <th>1</th>\n",
       "      <td>Ujin</td>\n",
       "      <td>02</td>\n",
       "      <td>Ujin</td>\n",
       "      <td>6.4</td>\n",
       "    </tr>\n",
       "    <tr>\n",
       "      <th>2</th>\n",
       "      <td>Ann</td>\n",
       "      <td>02</td>\n",
       "      <td>Ann</td>\n",
       "      <td>8.3</td>\n",
       "    </tr>\n",
       "    <tr>\n",
       "      <th>3</th>\n",
       "      <td>Polina</td>\n",
       "      <td>01</td>\n",
       "      <td>Polina</td>\n",
       "      <td>9</td>\n",
       "    </tr>\n",
       "    <tr>\n",
       "      <th>4</th>\n",
       "      <td>Sam</td>\n",
       "      <td>02</td>\n",
       "      <td>NaN</td>\n",
       "      <td>NaN</td>\n",
       "    </tr>\n",
       "    <tr>\n",
       "      <th>5</th>\n",
       "      <td>NaN</td>\n",
       "      <td>NaN</td>\n",
       "      <td>Kit</td>\n",
       "      <td>10</td>\n",
       "    </tr>\n",
       "  </tbody>\n",
       "</table>\n",
       "</div>"
      ],
      "text/plain": [
       "  Student group    Name  GPA\n",
       "0     Tom    01     Tom  7.8\n",
       "1    Ujin    02    Ujin  6.4\n",
       "2     Ann    02     Ann  8.3\n",
       "3  Polina    01  Polina    9\n",
       "4     Sam    02     NaN  NaN\n",
       "5     NaN   NaN     Kit   10"
      ]
     },
     "execution_count": 4,
     "metadata": {},
     "output_type": "execute_result"
    }
   ],
   "source": [
    "# outer join\n",
    "pd.merge(df1, df2, left_on='Student', right_on='Name', how='outer')"
   ]
  },
  {
   "cell_type": "code",
   "execution_count": 5,
   "id": "8b671259",
   "metadata": {},
   "outputs": [
    {
     "data": {
      "text/html": [
       "<div>\n",
       "<style scoped>\n",
       "    .dataframe tbody tr th:only-of-type {\n",
       "        vertical-align: middle;\n",
       "    }\n",
       "\n",
       "    .dataframe tbody tr th {\n",
       "        vertical-align: top;\n",
       "    }\n",
       "\n",
       "    .dataframe thead th {\n",
       "        text-align: right;\n",
       "    }\n",
       "</style>\n",
       "<table border=\"1\" class=\"dataframe\">\n",
       "  <thead>\n",
       "    <tr style=\"text-align: right;\">\n",
       "      <th></th>\n",
       "      <th>Student</th>\n",
       "      <th>group</th>\n",
       "      <th>Name</th>\n",
       "      <th>GPA</th>\n",
       "    </tr>\n",
       "  </thead>\n",
       "  <tbody>\n",
       "    <tr>\n",
       "      <th>0</th>\n",
       "      <td>Tom</td>\n",
       "      <td>01</td>\n",
       "      <td>Tom</td>\n",
       "      <td>7.8</td>\n",
       "    </tr>\n",
       "    <tr>\n",
       "      <th>1</th>\n",
       "      <td>Ujin</td>\n",
       "      <td>02</td>\n",
       "      <td>Ujin</td>\n",
       "      <td>6.4</td>\n",
       "    </tr>\n",
       "    <tr>\n",
       "      <th>2</th>\n",
       "      <td>Ann</td>\n",
       "      <td>02</td>\n",
       "      <td>Ann</td>\n",
       "      <td>8.3</td>\n",
       "    </tr>\n",
       "    <tr>\n",
       "      <th>3</th>\n",
       "      <td>Polina</td>\n",
       "      <td>01</td>\n",
       "      <td>Polina</td>\n",
       "      <td>9</td>\n",
       "    </tr>\n",
       "    <tr>\n",
       "      <th>4</th>\n",
       "      <td>Sam</td>\n",
       "      <td>02</td>\n",
       "      <td>NaN</td>\n",
       "      <td>NaN</td>\n",
       "    </tr>\n",
       "  </tbody>\n",
       "</table>\n",
       "</div>"
      ],
      "text/plain": [
       "  Student group    Name  GPA\n",
       "0     Tom    01     Tom  7.8\n",
       "1    Ujin    02    Ujin  6.4\n",
       "2     Ann    02     Ann  8.3\n",
       "3  Polina    01  Polina    9\n",
       "4     Sam    02     NaN  NaN"
      ]
     },
     "execution_count": 5,
     "metadata": {},
     "output_type": "execute_result"
    }
   ],
   "source": [
    "# left join - оставляем все, что в левой таблице\n",
    "pd.merge(df1, df2, left_on='Student', right_on='Name', how='left')"
   ]
  },
  {
   "cell_type": "code",
   "execution_count": 6,
   "id": "c40545d5",
   "metadata": {},
   "outputs": [
    {
     "data": {
      "text/html": [
       "<div>\n",
       "<style scoped>\n",
       "    .dataframe tbody tr th:only-of-type {\n",
       "        vertical-align: middle;\n",
       "    }\n",
       "\n",
       "    .dataframe tbody tr th {\n",
       "        vertical-align: top;\n",
       "    }\n",
       "\n",
       "    .dataframe thead th {\n",
       "        text-align: right;\n",
       "    }\n",
       "</style>\n",
       "<table border=\"1\" class=\"dataframe\">\n",
       "  <thead>\n",
       "    <tr style=\"text-align: right;\">\n",
       "      <th></th>\n",
       "      <th>Student</th>\n",
       "      <th>group</th>\n",
       "      <th>Name</th>\n",
       "      <th>GPA</th>\n",
       "    </tr>\n",
       "  </thead>\n",
       "  <tbody>\n",
       "    <tr>\n",
       "      <th>0</th>\n",
       "      <td>Tom</td>\n",
       "      <td>01</td>\n",
       "      <td>Tom</td>\n",
       "      <td>7.8</td>\n",
       "    </tr>\n",
       "    <tr>\n",
       "      <th>1</th>\n",
       "      <td>Ujin</td>\n",
       "      <td>02</td>\n",
       "      <td>Ujin</td>\n",
       "      <td>6.4</td>\n",
       "    </tr>\n",
       "    <tr>\n",
       "      <th>2</th>\n",
       "      <td>Ann</td>\n",
       "      <td>02</td>\n",
       "      <td>Ann</td>\n",
       "      <td>8.3</td>\n",
       "    </tr>\n",
       "    <tr>\n",
       "      <th>3</th>\n",
       "      <td>Polina</td>\n",
       "      <td>01</td>\n",
       "      <td>Polina</td>\n",
       "      <td>9</td>\n",
       "    </tr>\n",
       "  </tbody>\n",
       "</table>\n",
       "</div>"
      ],
      "text/plain": [
       "  Student group    Name  GPA\n",
       "0     Tom    01     Tom  7.8\n",
       "1    Ujin    02    Ujin  6.4\n",
       "2     Ann    02     Ann  8.3\n",
       "3  Polina    01  Polina    9"
      ]
     },
     "execution_count": 6,
     "metadata": {},
     "output_type": "execute_result"
    }
   ],
   "source": [
    "# inner join по умолчанию \n",
    "pd.merge(df1, df2, left_on='Student', right_on='Name')"
   ]
  },
  {
   "cell_type": "code",
   "execution_count": 7,
   "id": "f4b5d9ac",
   "metadata": {},
   "outputs": [
    {
     "data": {
      "text/html": [
       "<div>\n",
       "<style scoped>\n",
       "    .dataframe tbody tr th:only-of-type {\n",
       "        vertical-align: middle;\n",
       "    }\n",
       "\n",
       "    .dataframe tbody tr th {\n",
       "        vertical-align: top;\n",
       "    }\n",
       "\n",
       "    .dataframe thead th {\n",
       "        text-align: right;\n",
       "    }\n",
       "</style>\n",
       "<table border=\"1\" class=\"dataframe\">\n",
       "  <thead>\n",
       "    <tr style=\"text-align: right;\">\n",
       "      <th></th>\n",
       "      <th>Student</th>\n",
       "      <th>group</th>\n",
       "      <th>Name</th>\n",
       "      <th>GPA</th>\n",
       "    </tr>\n",
       "  </thead>\n",
       "  <tbody>\n",
       "    <tr>\n",
       "      <th>0</th>\n",
       "      <td>Tom</td>\n",
       "      <td>01</td>\n",
       "      <td>Tom</td>\n",
       "      <td>7.8</td>\n",
       "    </tr>\n",
       "    <tr>\n",
       "      <th>1</th>\n",
       "      <td>Ujin</td>\n",
       "      <td>02</td>\n",
       "      <td>Ujin</td>\n",
       "      <td>6.4</td>\n",
       "    </tr>\n",
       "    <tr>\n",
       "      <th>2</th>\n",
       "      <td>Ann</td>\n",
       "      <td>02</td>\n",
       "      <td>Ann</td>\n",
       "      <td>8.3</td>\n",
       "    </tr>\n",
       "    <tr>\n",
       "      <th>3</th>\n",
       "      <td>Polina</td>\n",
       "      <td>01</td>\n",
       "      <td>Polina</td>\n",
       "      <td>9</td>\n",
       "    </tr>\n",
       "  </tbody>\n",
       "</table>\n",
       "</div>"
      ],
      "text/plain": [
       "  Student group    Name  GPA\n",
       "0     Tom    01     Tom  7.8\n",
       "1    Ujin    02    Ujin  6.4\n",
       "2     Ann    02     Ann  8.3\n",
       "3  Polina    01  Polina    9"
      ]
     },
     "execution_count": 7,
     "metadata": {},
     "output_type": "execute_result"
    }
   ],
   "source": [
    "# можно склеивать через метод датафрейма\n",
    "df1.merge(df2, left_on='Student', right_on='Name')"
   ]
  },
  {
   "cell_type": "markdown",
   "id": "6d425685",
   "metadata": {},
   "source": [
    "### Конкатенация строк"
   ]
  },
  {
   "cell_type": "code",
   "execution_count": 8,
   "id": "f2ea5c83",
   "metadata": {},
   "outputs": [
    {
     "data": {
      "text/html": [
       "<div>\n",
       "<style scoped>\n",
       "    .dataframe tbody tr th:only-of-type {\n",
       "        vertical-align: middle;\n",
       "    }\n",
       "\n",
       "    .dataframe tbody tr th {\n",
       "        vertical-align: top;\n",
       "    }\n",
       "\n",
       "    .dataframe thead th {\n",
       "        text-align: right;\n",
       "    }\n",
       "</style>\n",
       "<table border=\"1\" class=\"dataframe\">\n",
       "  <thead>\n",
       "    <tr style=\"text-align: right;\">\n",
       "      <th></th>\n",
       "      <th>name</th>\n",
       "      <th>students</th>\n",
       "    </tr>\n",
       "  </thead>\n",
       "  <tbody>\n",
       "    <tr>\n",
       "      <th>0</th>\n",
       "      <td>Max</td>\n",
       "      <td>20</td>\n",
       "    </tr>\n",
       "    <tr>\n",
       "      <th>1</th>\n",
       "      <td>Phil</td>\n",
       "      <td>21</td>\n",
       "    </tr>\n",
       "    <tr>\n",
       "      <th>2</th>\n",
       "      <td>Vlad</td>\n",
       "      <td>30</td>\n",
       "    </tr>\n",
       "    <tr>\n",
       "      <th>3</th>\n",
       "      <td>Nastya</td>\n",
       "      <td>42</td>\n",
       "    </tr>\n",
       "  </tbody>\n",
       "</table>\n",
       "</div>"
      ],
      "text/plain": [
       "     name  students\n",
       "0     Max        20\n",
       "1    Phil        21\n",
       "2    Vlad        30\n",
       "3  Nastya        42"
      ]
     },
     "metadata": {},
     "output_type": "display_data"
    },
    {
     "data": {
      "text/html": [
       "<div>\n",
       "<style scoped>\n",
       "    .dataframe tbody tr th:only-of-type {\n",
       "        vertical-align: middle;\n",
       "    }\n",
       "\n",
       "    .dataframe tbody tr th {\n",
       "        vertical-align: top;\n",
       "    }\n",
       "\n",
       "    .dataframe thead th {\n",
       "        text-align: right;\n",
       "    }\n",
       "</style>\n",
       "<table border=\"1\" class=\"dataframe\">\n",
       "  <thead>\n",
       "    <tr style=\"text-align: right;\">\n",
       "      <th></th>\n",
       "      <th>name</th>\n",
       "      <th>students</th>\n",
       "    </tr>\n",
       "  </thead>\n",
       "  <tbody>\n",
       "    <tr>\n",
       "      <th>0</th>\n",
       "      <td>Ahmed</td>\n",
       "      <td>50</td>\n",
       "    </tr>\n",
       "    <tr>\n",
       "      <th>1</th>\n",
       "      <td>Andrey</td>\n",
       "      <td>40</td>\n",
       "    </tr>\n",
       "  </tbody>\n",
       "</table>\n",
       "</div>"
      ],
      "text/plain": [
       "     name  students\n",
       "0   Ahmed        50\n",
       "1  Andrey        40"
      ]
     },
     "metadata": {},
     "output_type": "display_data"
    }
   ],
   "source": [
    "df1 = pd.DataFrame({'name': ['Max', 'Phil', 'Vlad', 'Nastya'], 'students': [20, 21, 30, 42]})\n",
    "df2 = pd.DataFrame({'name': ['Ahmed', 'Andrey'], 'students': [50, 40]})\n",
    "\n",
    "display(df1, df2)"
   ]
  },
  {
   "cell_type": "code",
   "execution_count": 9,
   "id": "b46ec99f",
   "metadata": {},
   "outputs": [
    {
     "data": {
      "text/html": [
       "<div>\n",
       "<style scoped>\n",
       "    .dataframe tbody tr th:only-of-type {\n",
       "        vertical-align: middle;\n",
       "    }\n",
       "\n",
       "    .dataframe tbody tr th {\n",
       "        vertical-align: top;\n",
       "    }\n",
       "\n",
       "    .dataframe thead th {\n",
       "        text-align: right;\n",
       "    }\n",
       "</style>\n",
       "<table border=\"1\" class=\"dataframe\">\n",
       "  <thead>\n",
       "    <tr style=\"text-align: right;\">\n",
       "      <th></th>\n",
       "      <th>name</th>\n",
       "      <th>students</th>\n",
       "    </tr>\n",
       "  </thead>\n",
       "  <tbody>\n",
       "    <tr>\n",
       "      <th>0</th>\n",
       "      <td>Max</td>\n",
       "      <td>20</td>\n",
       "    </tr>\n",
       "    <tr>\n",
       "      <th>1</th>\n",
       "      <td>Phil</td>\n",
       "      <td>21</td>\n",
       "    </tr>\n",
       "    <tr>\n",
       "      <th>2</th>\n",
       "      <td>Vlad</td>\n",
       "      <td>30</td>\n",
       "    </tr>\n",
       "    <tr>\n",
       "      <th>3</th>\n",
       "      <td>Nastya</td>\n",
       "      <td>42</td>\n",
       "    </tr>\n",
       "    <tr>\n",
       "      <th>4</th>\n",
       "      <td>Ahmed</td>\n",
       "      <td>50</td>\n",
       "    </tr>\n",
       "    <tr>\n",
       "      <th>5</th>\n",
       "      <td>Andrey</td>\n",
       "      <td>40</td>\n",
       "    </tr>\n",
       "  </tbody>\n",
       "</table>\n",
       "</div>"
      ],
      "text/plain": [
       "     name  students\n",
       "0     Max        20\n",
       "1    Phil        21\n",
       "2    Vlad        30\n",
       "3  Nastya        42\n",
       "4   Ahmed        50\n",
       "5  Andrey        40"
      ]
     },
     "execution_count": 9,
     "metadata": {},
     "output_type": "execute_result"
    }
   ],
   "source": [
    "pd.concat([df1, df2]).reset_index(drop=True)"
   ]
  },
  {
   "cell_type": "code",
   "execution_count": 10,
   "id": "66c0697e",
   "metadata": {},
   "outputs": [
    {
     "data": {
      "text/html": [
       "<div>\n",
       "<style scoped>\n",
       "    .dataframe tbody tr th:only-of-type {\n",
       "        vertical-align: middle;\n",
       "    }\n",
       "\n",
       "    .dataframe tbody tr th {\n",
       "        vertical-align: top;\n",
       "    }\n",
       "\n",
       "    .dataframe thead th {\n",
       "        text-align: right;\n",
       "    }\n",
       "</style>\n",
       "<table border=\"1\" class=\"dataframe\">\n",
       "  <thead>\n",
       "    <tr style=\"text-align: right;\">\n",
       "      <th></th>\n",
       "      <th>name</th>\n",
       "      <th>students</th>\n",
       "      <th>name</th>\n",
       "      <th>students</th>\n",
       "    </tr>\n",
       "  </thead>\n",
       "  <tbody>\n",
       "    <tr>\n",
       "      <th>0</th>\n",
       "      <td>Max</td>\n",
       "      <td>20</td>\n",
       "      <td>Max</td>\n",
       "      <td>20</td>\n",
       "    </tr>\n",
       "    <tr>\n",
       "      <th>1</th>\n",
       "      <td>Phil</td>\n",
       "      <td>21</td>\n",
       "      <td>Phil</td>\n",
       "      <td>21</td>\n",
       "    </tr>\n",
       "    <tr>\n",
       "      <th>2</th>\n",
       "      <td>Vlad</td>\n",
       "      <td>30</td>\n",
       "      <td>Vlad</td>\n",
       "      <td>30</td>\n",
       "    </tr>\n",
       "    <tr>\n",
       "      <th>3</th>\n",
       "      <td>Nastya</td>\n",
       "      <td>42</td>\n",
       "      <td>Nastya</td>\n",
       "      <td>42</td>\n",
       "    </tr>\n",
       "  </tbody>\n",
       "</table>\n",
       "</div>"
      ],
      "text/plain": [
       "     name  students    name  students\n",
       "0     Max        20     Max        20\n",
       "1    Phil        21    Phil        21\n",
       "2    Vlad        30    Vlad        30\n",
       "3  Nastya        42  Nastya        42"
      ]
     },
     "execution_count": 10,
     "metadata": {},
     "output_type": "execute_result"
    }
   ],
   "source": [
    "pd.concat([df1, df1], axis=1)"
   ]
  },
  {
   "cell_type": "markdown",
   "id": "f48c2f46",
   "metadata": {},
   "source": [
    "### Пример на клипах по ютубу"
   ]
  },
  {
   "cell_type": "markdown",
   "id": "60126615",
   "metadata": {},
   "source": [
    "Работать в дальнейшем будем с базой данных, содержащей информацию о клипах ютуба. В базе несколько таблиц, между которыми выстроены соединения. Структура выглядит таким образом:  \n",
    "\n"
   ]
  },
  {
   "cell_type": "markdown",
   "id": "3a5acc4f",
   "metadata": {},
   "source": [
    "<center>\n",
    "<img src=\"https://github.com/hse-econ-data-science/dap_2021_spring/blob/main/sem09_pandas/images/struct.png?raw=true\" height=\"500\" width=\"500\">\n",
    "</center>"
   ]
  },
  {
   "cell_type": "markdown",
   "id": "1d9d2e11",
   "metadata": {},
   "source": [
    "__Описание колонок:__\n",
    "\n",
    "* `id_title` $-$ уникальный id названия видео\n",
    "* `id_music_style` $-$ уникальный id жанра\n",
    "* `id_performer` $-$ уникальный id исполнителя\n",
    "* `title` $-$ название видео\n",
    "* `commentCount` $-$ число комментариев\n",
    "* `dislikeCount` $-$ число дизлайков\n",
    "* `likeCount` $-$ число лайков\n",
    "* `music_style` $-$ музыкальный стиль\n",
    "* `performer` $-$ исполнитель\n",
    "* `viewCount` $-$ число просмотров\n",
    "* `commentators_uniq` $-$ число уникальных комментаторов\n",
    "* `comments_obscene_cnt` $-$ число негативных комментариев\n",
    "* `video_age` $-$ возраст видео в днях (на момент '2019-03-15')"
   ]
  },
  {
   "cell_type": "code",
   "execution_count": 11,
   "id": "a4ce21e0",
   "metadata": {},
   "outputs": [],
   "source": [
    "# подгрузим все таблицы\n",
    "df_perf = pd.read_csv('../data/performer_table.csv', sep=';')\n",
    "df_title = pd.read_csv('../data/title_table.csv', sep=';')\n",
    "df_genre = pd.read_csv('../data/music_style_table.csv', sep=';')\n",
    "df_stat = pd.read_csv('../data/title_stat_table.csv', sep=';')"
   ]
  },
  {
   "cell_type": "code",
   "execution_count": 12,
   "id": "15f9d291",
   "metadata": {},
   "outputs": [
    {
     "data": {
      "text/html": [
       "<div>\n",
       "<style scoped>\n",
       "    .dataframe tbody tr th:only-of-type {\n",
       "        vertical-align: middle;\n",
       "    }\n",
       "\n",
       "    .dataframe tbody tr th {\n",
       "        vertical-align: top;\n",
       "    }\n",
       "\n",
       "    .dataframe thead th {\n",
       "        text-align: right;\n",
       "    }\n",
       "</style>\n",
       "<table border=\"1\" class=\"dataframe\">\n",
       "  <thead>\n",
       "    <tr style=\"text-align: right;\">\n",
       "      <th></th>\n",
       "      <th>id_performer</th>\n",
       "      <th>performer</th>\n",
       "    </tr>\n",
       "  </thead>\n",
       "  <tbody>\n",
       "    <tr>\n",
       "      <th>0</th>\n",
       "      <td>99991</td>\n",
       "      <td>2маши</td>\n",
       "    </tr>\n",
       "    <tr>\n",
       "      <th>1</th>\n",
       "      <td>99992</td>\n",
       "      <td>лазарев</td>\n",
       "    </tr>\n",
       "    <tr>\n",
       "      <th>2</th>\n",
       "      <td>99993</td>\n",
       "      <td>мумий_тролль</td>\n",
       "    </tr>\n",
       "    <tr>\n",
       "      <th>3</th>\n",
       "      <td>99994</td>\n",
       "      <td>нюша</td>\n",
       "    </tr>\n",
       "    <tr>\n",
       "      <th>4</th>\n",
       "      <td>99995</td>\n",
       "      <td>classical_channel</td>\n",
       "    </tr>\n",
       "  </tbody>\n",
       "</table>\n",
       "</div>"
      ],
      "text/plain": [
       "   id_performer          performer\n",
       "0         99991              2маши\n",
       "1         99992            лазарев\n",
       "2         99993       мумий_тролль\n",
       "3         99994               нюша\n",
       "4         99995  classical_channel"
      ]
     },
     "metadata": {},
     "output_type": "display_data"
    },
    {
     "data": {
      "text/html": [
       "<div>\n",
       "<style scoped>\n",
       "    .dataframe tbody tr th:only-of-type {\n",
       "        vertical-align: middle;\n",
       "    }\n",
       "\n",
       "    .dataframe tbody tr th {\n",
       "        vertical-align: top;\n",
       "    }\n",
       "\n",
       "    .dataframe thead th {\n",
       "        text-align: right;\n",
       "    }\n",
       "</style>\n",
       "<table border=\"1\" class=\"dataframe\">\n",
       "  <thead>\n",
       "    <tr style=\"text-align: right;\">\n",
       "      <th></th>\n",
       "      <th>id_title</th>\n",
       "      <th>title</th>\n",
       "    </tr>\n",
       "  </thead>\n",
       "  <tbody>\n",
       "    <tr>\n",
       "      <th>0</th>\n",
       "      <td>98765431</td>\n",
       "      <td>\"#2Маши \"Свободные линии\"</td>\n",
       "    </tr>\n",
       "    <tr>\n",
       "      <th>1</th>\n",
       "      <td>98765432</td>\n",
       "      <td>\"Моя любимая кухня\". Дорада на скорую руку</td>\n",
       "    </tr>\n",
       "    <tr>\n",
       "      <th>2</th>\n",
       "      <td>98765433</td>\n",
       "      <td>\"Моя любимая кухня\". Спецвыпуск. Что мы покупа...</td>\n",
       "    </tr>\n",
       "    <tr>\n",
       "      <th>3</th>\n",
       "      <td>98765434</td>\n",
       "      <td># 2 МАШИ \"Теперь Нас Двое\"</td>\n",
       "    </tr>\n",
       "    <tr>\n",
       "      <th>4</th>\n",
       "      <td>98765435</td>\n",
       "      <td># 2 Маши \" Мысли\" ..</td>\n",
       "    </tr>\n",
       "  </tbody>\n",
       "</table>\n",
       "</div>"
      ],
      "text/plain": [
       "   id_title                                              title\n",
       "0  98765431                          \"#2Маши \"Свободные линии\"\n",
       "1  98765432         \"Моя любимая кухня\". Дорада на скорую руку\n",
       "2  98765433  \"Моя любимая кухня\". Спецвыпуск. Что мы покупа...\n",
       "3  98765434                         # 2 МАШИ \"Теперь Нас Двое\"\n",
       "4  98765435                               # 2 Маши \" Мысли\" .."
      ]
     },
     "metadata": {},
     "output_type": "display_data"
    },
    {
     "data": {
      "text/html": [
       "<div>\n",
       "<style scoped>\n",
       "    .dataframe tbody tr th:only-of-type {\n",
       "        vertical-align: middle;\n",
       "    }\n",
       "\n",
       "    .dataframe tbody tr th {\n",
       "        vertical-align: top;\n",
       "    }\n",
       "\n",
       "    .dataframe thead th {\n",
       "        text-align: right;\n",
       "    }\n",
       "</style>\n",
       "<table border=\"1\" class=\"dataframe\">\n",
       "  <thead>\n",
       "    <tr style=\"text-align: right;\">\n",
       "      <th></th>\n",
       "      <th>id_music_style</th>\n",
       "      <th>music_style</th>\n",
       "    </tr>\n",
       "  </thead>\n",
       "  <tbody>\n",
       "    <tr>\n",
       "      <th>0</th>\n",
       "      <td>12345</td>\n",
       "      <td>popsa</td>\n",
       "    </tr>\n",
       "    <tr>\n",
       "      <th>1</th>\n",
       "      <td>12346</td>\n",
       "      <td>rock</td>\n",
       "    </tr>\n",
       "    <tr>\n",
       "      <th>2</th>\n",
       "      <td>12347</td>\n",
       "      <td>classic</td>\n",
       "    </tr>\n",
       "    <tr>\n",
       "      <th>3</th>\n",
       "      <td>12348</td>\n",
       "      <td>indi</td>\n",
       "    </tr>\n",
       "    <tr>\n",
       "      <th>4</th>\n",
       "      <td>12349</td>\n",
       "      <td>estrada</td>\n",
       "    </tr>\n",
       "  </tbody>\n",
       "</table>\n",
       "</div>"
      ],
      "text/plain": [
       "   id_music_style music_style\n",
       "0           12345       popsa\n",
       "1           12346        rock\n",
       "2           12347     classic\n",
       "3           12348        indi\n",
       "4           12349     estrada"
      ]
     },
     "metadata": {},
     "output_type": "display_data"
    },
    {
     "data": {
      "text/html": [
       "<div>\n",
       "<style scoped>\n",
       "    .dataframe tbody tr th:only-of-type {\n",
       "        vertical-align: middle;\n",
       "    }\n",
       "\n",
       "    .dataframe tbody tr th {\n",
       "        vertical-align: top;\n",
       "    }\n",
       "\n",
       "    .dataframe thead th {\n",
       "        text-align: right;\n",
       "    }\n",
       "</style>\n",
       "<table border=\"1\" class=\"dataframe\">\n",
       "  <thead>\n",
       "    <tr style=\"text-align: right;\">\n",
       "      <th></th>\n",
       "      <th>id_title</th>\n",
       "      <th>commentCount</th>\n",
       "      <th>dislikeCount</th>\n",
       "      <th>likeCount</th>\n",
       "      <th>id_music_style</th>\n",
       "      <th>id_performer</th>\n",
       "      <th>viewCount</th>\n",
       "      <th>commentators_uniq</th>\n",
       "      <th>comments_obscene_cnt</th>\n",
       "      <th>video_age</th>\n",
       "    </tr>\n",
       "  </thead>\n",
       "  <tbody>\n",
       "    <tr>\n",
       "      <th>0</th>\n",
       "      <td>98765431</td>\n",
       "      <td>34.0</td>\n",
       "      <td>43.0</td>\n",
       "      <td>1402.0</td>\n",
       "      <td>12345</td>\n",
       "      <td>99991</td>\n",
       "      <td>214301.0</td>\n",
       "      <td>24.0</td>\n",
       "      <td>0.0</td>\n",
       "      <td>1141</td>\n",
       "    </tr>\n",
       "    <tr>\n",
       "      <th>1</th>\n",
       "      <td>98765432</td>\n",
       "      <td>36.0</td>\n",
       "      <td>90.0</td>\n",
       "      <td>512.0</td>\n",
       "      <td>12345</td>\n",
       "      <td>99991</td>\n",
       "      <td>74666.0</td>\n",
       "      <td>27.0</td>\n",
       "      <td>0.0</td>\n",
       "      <td>2160</td>\n",
       "    </tr>\n",
       "    <tr>\n",
       "      <th>2</th>\n",
       "      <td>98765433</td>\n",
       "      <td>5.0</td>\n",
       "      <td>5.0</td>\n",
       "      <td>132.0</td>\n",
       "      <td>12345</td>\n",
       "      <td>99991</td>\n",
       "      <td>17766.0</td>\n",
       "      <td>4.0</td>\n",
       "      <td>0.0</td>\n",
       "      <td>2164</td>\n",
       "    </tr>\n",
       "    <tr>\n",
       "      <th>3</th>\n",
       "      <td>98765434</td>\n",
       "      <td>5.0</td>\n",
       "      <td>14.0</td>\n",
       "      <td>153.0</td>\n",
       "      <td>12345</td>\n",
       "      <td>99991</td>\n",
       "      <td>15176.0</td>\n",
       "      <td>4.0</td>\n",
       "      <td>0.0</td>\n",
       "      <td>1317</td>\n",
       "    </tr>\n",
       "    <tr>\n",
       "      <th>4</th>\n",
       "      <td>98765435</td>\n",
       "      <td>51.0</td>\n",
       "      <td>79.0</td>\n",
       "      <td>1963.0</td>\n",
       "      <td>12345</td>\n",
       "      <td>99991</td>\n",
       "      <td>377074.0</td>\n",
       "      <td>28.0</td>\n",
       "      <td>0.0</td>\n",
       "      <td>1246</td>\n",
       "    </tr>\n",
       "  </tbody>\n",
       "</table>\n",
       "</div>"
      ],
      "text/plain": [
       "   id_title  commentCount  dislikeCount  likeCount  id_music_style  \\\n",
       "0  98765431          34.0          43.0     1402.0           12345   \n",
       "1  98765432          36.0          90.0      512.0           12345   \n",
       "2  98765433           5.0           5.0      132.0           12345   \n",
       "3  98765434           5.0          14.0      153.0           12345   \n",
       "4  98765435          51.0          79.0     1963.0           12345   \n",
       "\n",
       "   id_performer  viewCount  commentators_uniq  comments_obscene_cnt  video_age  \n",
       "0         99991   214301.0               24.0                   0.0       1141  \n",
       "1         99991    74666.0               27.0                   0.0       2160  \n",
       "2         99991    17766.0                4.0                   0.0       2164  \n",
       "3         99991    15176.0                4.0                   0.0       1317  \n",
       "4         99991   377074.0               28.0                   0.0       1246  "
      ]
     },
     "metadata": {},
     "output_type": "display_data"
    }
   ],
   "source": [
    "display(df_perf.head(), df_title.head(), df_genre.head(), df_stat.head())"
   ]
  },
  {
   "cell_type": "markdown",
   "id": "9b396349",
   "metadata": {},
   "source": [
    "#### **Задача №1**\n",
    "\n",
    "Какой исполнитель получает больше всего хейта? (хейт определяется числом негативных комментариев) "
   ]
  },
  {
   "cell_type": "code",
   "execution_count": 13,
   "id": "b77c0319",
   "metadata": {},
   "outputs": [
    {
     "data": {
      "text/html": [
       "<div>\n",
       "<style scoped>\n",
       "    .dataframe tbody tr th:only-of-type {\n",
       "        vertical-align: middle;\n",
       "    }\n",
       "\n",
       "    .dataframe tbody tr th {\n",
       "        vertical-align: top;\n",
       "    }\n",
       "\n",
       "    .dataframe thead th {\n",
       "        text-align: right;\n",
       "    }\n",
       "</style>\n",
       "<table border=\"1\" class=\"dataframe\">\n",
       "  <thead>\n",
       "    <tr style=\"text-align: right;\">\n",
       "      <th></th>\n",
       "      <th>performer</th>\n",
       "      <th>comments_obscene_cnt</th>\n",
       "    </tr>\n",
       "  </thead>\n",
       "  <tbody>\n",
       "    <tr>\n",
       "      <th>0</th>\n",
       "      <td>gazgolder</td>\n",
       "      <td>693.0</td>\n",
       "    </tr>\n",
       "  </tbody>\n",
       "</table>\n",
       "</div>"
      ],
      "text/plain": [
       "   performer  comments_obscene_cnt\n",
       "0  gazgolder                 693.0"
      ]
     },
     "execution_count": 13,
     "metadata": {},
     "output_type": "execute_result"
    }
   ],
   "source": [
    "df_stat.iloc[[df_stat['comments_obscene_cnt'].argmax()]]\\\n",
    "    .merge(df_perf, on='id_performer')[['performer','comments_obscene_cnt']]"
   ]
  },
  {
   "cell_type": "code",
   "execution_count": 14,
   "id": "aa55220f",
   "metadata": {},
   "outputs": [
    {
     "data": {
      "text/html": [
       "<div>\n",
       "<style scoped>\n",
       "    .dataframe tbody tr th:only-of-type {\n",
       "        vertical-align: middle;\n",
       "    }\n",
       "\n",
       "    .dataframe tbody tr th {\n",
       "        vertical-align: top;\n",
       "    }\n",
       "\n",
       "    .dataframe thead th {\n",
       "        text-align: right;\n",
       "    }\n",
       "</style>\n",
       "<table border=\"1\" class=\"dataframe\">\n",
       "  <thead>\n",
       "    <tr style=\"text-align: right;\">\n",
       "      <th></th>\n",
       "      <th>id_performer</th>\n",
       "      <th>comments_obscene_cnt</th>\n",
       "      <th>performer</th>\n",
       "    </tr>\n",
       "  </thead>\n",
       "  <tbody>\n",
       "    <tr>\n",
       "      <th>29</th>\n",
       "      <td>100020</td>\n",
       "      <td>24865.0</td>\n",
       "      <td>gazgolder</td>\n",
       "    </tr>\n",
       "  </tbody>\n",
       "</table>\n",
       "</div>"
      ],
      "text/plain": [
       "    id_performer  comments_obscene_cnt  performer\n",
       "29        100020               24865.0  gazgolder"
      ]
     },
     "execution_count": 14,
     "metadata": {},
     "output_type": "execute_result"
    }
   ],
   "source": [
    "# немного другая логика\n",
    "df_stat.groupby('id_performer')['comments_obscene_cnt'].sum().reset_index()\\\n",
    "    .merge(df_perf, left_on='id_performer', right_on='id_performer')\\\n",
    "    .sort_values('comments_obscene_cnt').iloc[[-1]]"
   ]
  },
  {
   "cell_type": "markdown",
   "id": "da60c9a9",
   "metadata": {},
   "source": [
    "#### **Задача №2**\n",
    "\n",
    "Для каждого жанра выведите число просмотров самого популярного клипа? Кто его исполнитель? Как называется клип?"
   ]
  },
  {
   "cell_type": "code",
   "execution_count": 15,
   "id": "54e38da3",
   "metadata": {},
   "outputs": [
    {
     "data": {
      "text/html": [
       "<div>\n",
       "<style scoped>\n",
       "    .dataframe tbody tr th:only-of-type {\n",
       "        vertical-align: middle;\n",
       "    }\n",
       "\n",
       "    .dataframe tbody tr th {\n",
       "        vertical-align: top;\n",
       "    }\n",
       "\n",
       "    .dataframe thead th {\n",
       "        text-align: right;\n",
       "    }\n",
       "</style>\n",
       "<table border=\"1\" class=\"dataframe\">\n",
       "  <thead>\n",
       "    <tr style=\"text-align: right;\">\n",
       "      <th></th>\n",
       "      <th>music_style</th>\n",
       "      <th>performer</th>\n",
       "      <th>title</th>\n",
       "      <th>viewCount</th>\n",
       "    </tr>\n",
       "  </thead>\n",
       "  <tbody>\n",
       "    <tr>\n",
       "      <th>0</th>\n",
       "      <td>popsa</td>\n",
       "      <td>loboda</td>\n",
       "      <td>LOBODA — Твои Глаза</td>\n",
       "      <td>132015566.0</td>\n",
       "    </tr>\n",
       "    <tr>\n",
       "      <th>1</th>\n",
       "      <td>rock</td>\n",
       "      <td>ленинград</td>\n",
       "      <td>Ленинград — Экспонат</td>\n",
       "      <td>141509635.0</td>\n",
       "    </tr>\n",
       "    <tr>\n",
       "      <th>2</th>\n",
       "      <td>classic</td>\n",
       "      <td>classical_channel</td>\n",
       "      <td>Four Seasons ~ Vivaldi</td>\n",
       "      <td>196812152.0</td>\n",
       "    </tr>\n",
       "    <tr>\n",
       "      <th>3</th>\n",
       "      <td>indi</td>\n",
       "      <td>мальбэк</td>\n",
       "      <td>Мальбэк — Равнодушие ft. Сюзанна</td>\n",
       "      <td>48972150.0</td>\n",
       "    </tr>\n",
       "    <tr>\n",
       "      <th>4</th>\n",
       "      <td>estrada</td>\n",
       "      <td>михайлов</td>\n",
       "      <td>Стас Михайлов и Елена Север - Не зови, не слыш...</td>\n",
       "      <td>43969730.0</td>\n",
       "    </tr>\n",
       "    <tr>\n",
       "      <th>5</th>\n",
       "      <td>shanson</td>\n",
       "      <td>ирина_круг</td>\n",
       "      <td>Ирина Круг и Виктор Королев - Букет из белых роз</td>\n",
       "      <td>57860686.0</td>\n",
       "    </tr>\n",
       "    <tr>\n",
       "      <th>6</th>\n",
       "      <td>rap</td>\n",
       "      <td>miyagi&amp;эндшпиль</td>\n",
       "      <td>Miyagi &amp; Эндшпиль feat. Рем Дигга - I Got Love...</td>\n",
       "      <td>272047706.0</td>\n",
       "    </tr>\n",
       "  </tbody>\n",
       "</table>\n",
       "</div>"
      ],
      "text/plain": [
       "  music_style          performer  \\\n",
       "0       popsa             loboda   \n",
       "1        rock          ленинград   \n",
       "2     classic  classical_channel   \n",
       "3        indi            мальбэк   \n",
       "4     estrada           михайлов   \n",
       "5     shanson         ирина_круг   \n",
       "6         rap    miyagi&эндшпиль   \n",
       "\n",
       "                                               title    viewCount  \n",
       "0                                LOBODA — Твои Глаза  132015566.0  \n",
       "1                               Ленинград — Экспонат  141509635.0  \n",
       "2                             Four Seasons ~ Vivaldi  196812152.0  \n",
       "3                   Мальбэк — Равнодушие ft. Сюзанна   48972150.0  \n",
       "4  Стас Михайлов и Елена Север - Не зови, не слыш...   43969730.0  \n",
       "5   Ирина Круг и Виктор Королев - Букет из белых роз   57860686.0  \n",
       "6  Miyagi & Эндшпиль feat. Рем Дигга - I Got Love...  272047706.0  "
      ]
     },
     "execution_count": 15,
     "metadata": {},
     "output_type": "execute_result"
    }
   ],
   "source": [
    "df_stat.groupby('id_music_style')[['viewCount']].max()\\\n",
    "    .merge(df_stat, on='viewCount')\\\n",
    "    .merge(df_genre, on='id_music_style')\\\n",
    "    .merge(df_perf, on='id_performer')\\\n",
    "    .merge(df_title, on='id_title')\\\n",
    "    [['music_style','performer','title','viewCount']]"
   ]
  },
  {
   "cell_type": "markdown",
   "id": "998459b7",
   "metadata": {},
   "source": [
    "## Типы переменных"
   ]
  },
  {
   "cell_type": "markdown",
   "id": "177948e9",
   "metadata": {},
   "source": [
    "__Классификация переменных по типу данных:__  \n",
    "\n",
    "* `int` $-$ числовой, целые числа (1000, 0, -1)\n",
    "* `float` $-$ числовой, вещественные числа (1.0, 2.564523)\n",
    "* `object` $-$ строковый (бутырка, JPMorgan, f12aaz//)\n",
    "* `bool` $-$ булевский (True, False)\n",
    "* `datetime` $-$ дата (2020-01-12, 23.Jan.20)\n",
    "\n",
    "\n",
    "__Классификация переменных по смыслу:__  \n",
    "\n",
    "* `Непрерывные` $-$ содержат непрерывное множество значений на каком-то промежутке (з/п, рост человека, вес буханки хлеба и тд)\n",
    "* `Категориальные` $-$ содержат конечное небольшое множество значений (возраст детей, тип магазина)\n",
    "* `Бинарные` $-$ подтип категориальной переменной, имеющей только 2 категории (пол, столицы двух стран)"
   ]
  },
  {
   "cell_type": "code",
   "execution_count": 16,
   "id": "cfd99da4",
   "metadata": {},
   "outputs": [],
   "source": [
    "df_stat\\\n",
    "    .merge(df_perf, on='id_performer')\\\n",
    "    .merge(df_title, on='id_title')\\\n",
    "    .merge(df_genre, on='id_music_style')\\\n",
    "    .drop(['id_performer','id_title', 'id_music_style'], axis=1)\\\n",
    "    .to_csv('../data/youtube_data_with_titles.csv', index=None)"
   ]
  },
  {
   "cell_type": "code",
   "execution_count": 17,
   "id": "692aa487",
   "metadata": {},
   "outputs": [
    {
     "data": {
      "text/html": [
       "<div>\n",
       "<style scoped>\n",
       "    .dataframe tbody tr th:only-of-type {\n",
       "        vertical-align: middle;\n",
       "    }\n",
       "\n",
       "    .dataframe tbody tr th {\n",
       "        vertical-align: top;\n",
       "    }\n",
       "\n",
       "    .dataframe thead th {\n",
       "        text-align: right;\n",
       "    }\n",
       "</style>\n",
       "<table border=\"1\" class=\"dataframe\">\n",
       "  <thead>\n",
       "    <tr style=\"text-align: right;\">\n",
       "      <th></th>\n",
       "      <th>commentCount</th>\n",
       "      <th>dislikeCount</th>\n",
       "      <th>likeCount</th>\n",
       "      <th>viewCount</th>\n",
       "      <th>commentators_uniq</th>\n",
       "      <th>comments_obscene_cnt</th>\n",
       "      <th>video_age</th>\n",
       "      <th>performer</th>\n",
       "      <th>title</th>\n",
       "      <th>music_style</th>\n",
       "    </tr>\n",
       "  </thead>\n",
       "  <tbody>\n",
       "    <tr>\n",
       "      <th>0</th>\n",
       "      <td>34.0</td>\n",
       "      <td>43.0</td>\n",
       "      <td>1402.0</td>\n",
       "      <td>214301.0</td>\n",
       "      <td>24.0</td>\n",
       "      <td>0.0</td>\n",
       "      <td>1141</td>\n",
       "      <td>2маши</td>\n",
       "      <td>\"#2Маши \"Свободные линии\"</td>\n",
       "      <td>popsa</td>\n",
       "    </tr>\n",
       "    <tr>\n",
       "      <th>1</th>\n",
       "      <td>36.0</td>\n",
       "      <td>90.0</td>\n",
       "      <td>512.0</td>\n",
       "      <td>74666.0</td>\n",
       "      <td>27.0</td>\n",
       "      <td>0.0</td>\n",
       "      <td>2160</td>\n",
       "      <td>2маши</td>\n",
       "      <td>\"Моя любимая кухня\". Дорада на скорую руку</td>\n",
       "      <td>popsa</td>\n",
       "    </tr>\n",
       "    <tr>\n",
       "      <th>2</th>\n",
       "      <td>5.0</td>\n",
       "      <td>5.0</td>\n",
       "      <td>132.0</td>\n",
       "      <td>17766.0</td>\n",
       "      <td>4.0</td>\n",
       "      <td>0.0</td>\n",
       "      <td>2164</td>\n",
       "      <td>2маши</td>\n",
       "      <td>\"Моя любимая кухня\". Спецвыпуск. Что мы покупа...</td>\n",
       "      <td>popsa</td>\n",
       "    </tr>\n",
       "    <tr>\n",
       "      <th>3</th>\n",
       "      <td>5.0</td>\n",
       "      <td>14.0</td>\n",
       "      <td>153.0</td>\n",
       "      <td>15176.0</td>\n",
       "      <td>4.0</td>\n",
       "      <td>0.0</td>\n",
       "      <td>1317</td>\n",
       "      <td>2маши</td>\n",
       "      <td># 2 МАШИ \"Теперь Нас Двое\"</td>\n",
       "      <td>popsa</td>\n",
       "    </tr>\n",
       "    <tr>\n",
       "      <th>4</th>\n",
       "      <td>51.0</td>\n",
       "      <td>79.0</td>\n",
       "      <td>1963.0</td>\n",
       "      <td>377074.0</td>\n",
       "      <td>28.0</td>\n",
       "      <td>0.0</td>\n",
       "      <td>1246</td>\n",
       "      <td>2маши</td>\n",
       "      <td># 2 Маши \" Мысли\" ..</td>\n",
       "      <td>popsa</td>\n",
       "    </tr>\n",
       "  </tbody>\n",
       "</table>\n",
       "</div>"
      ],
      "text/plain": [
       "   commentCount  dislikeCount  likeCount  viewCount  commentators_uniq  \\\n",
       "0          34.0          43.0     1402.0   214301.0               24.0   \n",
       "1          36.0          90.0      512.0    74666.0               27.0   \n",
       "2           5.0           5.0      132.0    17766.0                4.0   \n",
       "3           5.0          14.0      153.0    15176.0                4.0   \n",
       "4          51.0          79.0     1963.0   377074.0               28.0   \n",
       "\n",
       "   comments_obscene_cnt  video_age performer  \\\n",
       "0                   0.0       1141     2маши   \n",
       "1                   0.0       2160     2маши   \n",
       "2                   0.0       2164     2маши   \n",
       "3                   0.0       1317     2маши   \n",
       "4                   0.0       1246     2маши   \n",
       "\n",
       "                                               title music_style  \n",
       "0                          \"#2Маши \"Свободные линии\"       popsa  \n",
       "1         \"Моя любимая кухня\". Дорада на скорую руку       popsa  \n",
       "2  \"Моя любимая кухня\". Спецвыпуск. Что мы покупа...       popsa  \n",
       "3                         # 2 МАШИ \"Теперь Нас Двое\"       popsa  \n",
       "4                               # 2 Маши \" Мысли\" ..       popsa  "
      ]
     },
     "execution_count": 17,
     "metadata": {},
     "output_type": "execute_result"
    }
   ],
   "source": [
    "df = pd.read_csv('../data/youtube_data_with_titles.csv')\n",
    "df.head()"
   ]
  },
  {
   "cell_type": "code",
   "execution_count": 18,
   "id": "929ce3fc",
   "metadata": {},
   "outputs": [
    {
     "data": {
      "text/plain": [
       "commentCount            float64\n",
       "dislikeCount            float64\n",
       "likeCount               float64\n",
       "viewCount               float64\n",
       "commentators_uniq       float64\n",
       "comments_obscene_cnt    float64\n",
       "video_age                 int64\n",
       "performer                object\n",
       "title                    object\n",
       "music_style              object\n",
       "dtype: object"
      ]
     },
     "execution_count": 18,
     "metadata": {},
     "output_type": "execute_result"
    }
   ],
   "source": [
    "# смотрим на типы переменных \n",
    "df.dtypes"
   ]
  },
  {
   "cell_type": "markdown",
   "id": "0f670c97",
   "metadata": {},
   "source": [
    "## Работа с категориальными переменными"
   ]
  },
  {
   "cell_type": "markdown",
   "id": "a6dc0b45",
   "metadata": {},
   "source": [
    "### Когда категории две"
   ]
  },
  {
   "cell_type": "markdown",
   "id": "7f2563c5",
   "metadata": {},
   "source": [
    "Отберем только клипы жанра `rock` и `rap`. Представим, что только они нас интересуют. "
   ]
  },
  {
   "cell_type": "code",
   "execution_count": 19,
   "id": "67048819",
   "metadata": {},
   "outputs": [],
   "source": [
    "genres_to_keep = ['rock', 'rap']\n",
    "\n",
    "df_small = df[df['music_style'].isin(genres_to_keep)]"
   ]
  },
  {
   "cell_type": "markdown",
   "id": "9283e04e",
   "metadata": {},
   "source": [
    "В таком \"поддатафрейме\" наша колонка `music_style` **имеет тип object** (т.к. в ней находятся строки), а также **является бинарной**, так как содержит всего два значения (`rock` и `rap`)"
   ]
  },
  {
   "cell_type": "markdown",
   "id": "226a19ee",
   "metadata": {},
   "source": [
    "Однако проблема строковых переменных в том, что многие модели не умеют с ними работать. Компьютеру привычнее оперировать с числами. \n",
    "\n",
    "Именно поэтому над строковыми бинарными переменными производят нехитрые манипуляции. Либо кодируют их в числа 1 / 0, либо создают булевский тип True / False, что в какой-то степени тоже самое. \n",
    "\n",
    "Попробуем преобразовать нашу бинарную строковую переменную music_style:"
   ]
  },
  {
   "cell_type": "code",
   "execution_count": 20,
   "id": "acc5fa40",
   "metadata": {},
   "outputs": [],
   "source": [
    "d = {\n",
    "    'rock': 1, \n",
    "    'rap': 0\n",
    "}\n",
    "df_small['is_rock'] = df_small['music_style'].map(d)"
   ]
  },
  {
   "cell_type": "code",
   "execution_count": 21,
   "id": "1e2392cb",
   "metadata": {},
   "outputs": [
    {
     "data": {
      "text/html": [
       "<div>\n",
       "<style scoped>\n",
       "    .dataframe tbody tr th:only-of-type {\n",
       "        vertical-align: middle;\n",
       "    }\n",
       "\n",
       "    .dataframe tbody tr th {\n",
       "        vertical-align: top;\n",
       "    }\n",
       "\n",
       "    .dataframe thead th {\n",
       "        text-align: right;\n",
       "    }\n",
       "</style>\n",
       "<table border=\"1\" class=\"dataframe\">\n",
       "  <thead>\n",
       "    <tr style=\"text-align: right;\">\n",
       "      <th></th>\n",
       "      <th>music_style</th>\n",
       "      <th>is_rock</th>\n",
       "    </tr>\n",
       "  </thead>\n",
       "  <tbody>\n",
       "    <tr>\n",
       "      <th>8156</th>\n",
       "      <td>rock</td>\n",
       "      <td>1</td>\n",
       "    </tr>\n",
       "    <tr>\n",
       "      <th>7406</th>\n",
       "      <td>rock</td>\n",
       "      <td>1</td>\n",
       "    </tr>\n",
       "    <tr>\n",
       "      <th>4242</th>\n",
       "      <td>rock</td>\n",
       "      <td>1</td>\n",
       "    </tr>\n",
       "    <tr>\n",
       "      <th>9136</th>\n",
       "      <td>rock</td>\n",
       "      <td>1</td>\n",
       "    </tr>\n",
       "    <tr>\n",
       "      <th>7571</th>\n",
       "      <td>rock</td>\n",
       "      <td>1</td>\n",
       "    </tr>\n",
       "  </tbody>\n",
       "</table>\n",
       "</div>"
      ],
      "text/plain": [
       "     music_style  is_rock\n",
       "8156        rock        1\n",
       "7406        rock        1\n",
       "4242        rock        1\n",
       "9136        rock        1\n",
       "7571        rock        1"
      ]
     },
     "execution_count": 21,
     "metadata": {},
     "output_type": "execute_result"
    }
   ],
   "source": [
    "df_small[['music_style','is_rock']].sample(5)"
   ]
  },
  {
   "cell_type": "markdown",
   "id": "2c5b4b83",
   "metadata": {},
   "source": [
    "#### **Задача №3**\n",
    "Какая доля наблюдений обоих жанров?"
   ]
  },
  {
   "cell_type": "code",
   "execution_count": 22,
   "id": "670efbd0",
   "metadata": {},
   "outputs": [
    {
     "data": {
      "text/plain": [
       "0.743810005053057"
      ]
     },
     "execution_count": 22,
     "metadata": {},
     "output_type": "execute_result"
    }
   ],
   "source": [
    "df_small['is_rock'].mean()"
   ]
  },
  {
   "cell_type": "markdown",
   "id": "ed18b1a5",
   "metadata": {},
   "source": [
    "### Когда категорий больше двух"
   ]
  },
  {
   "cell_type": "markdown",
   "id": "5205d973",
   "metadata": {},
   "source": [
    "Вернемся к нашему полному датафрейму. В нем music_style принимает не 2 значения, а целых 7. Что делать в таком случае?"
   ]
  },
  {
   "cell_type": "markdown",
   "id": "d03f1390",
   "metadata": {},
   "source": [
    "**Наивный метод:** Давайте каждому значению из music_style сопоставим какое-нибудь число. Такой метод называется Label Encoding. Заранее подумайте, какие проблемы может создать такой способ?"
   ]
  },
  {
   "cell_type": "code",
   "execution_count": 23,
   "id": "8c78c1ab",
   "metadata": {},
   "outputs": [
    {
     "name": "stdout",
     "output_type": "stream",
     "text": [
      "('popsa', 0)\n",
      "('rock', 1)\n",
      "('classic', 2)\n",
      "('indi', 3)\n",
      "('estrada', 4)\n",
      "('shanson', 5)\n",
      "('rap', 6)\n"
     ]
    }
   ],
   "source": [
    "for i in zip(df.music_style.unique(), np.arange(df.music_style.nunique())):\n",
    "    print(i)"
   ]
  },
  {
   "cell_type": "code",
   "execution_count": 24,
   "id": "e5de4c18",
   "metadata": {},
   "outputs": [
    {
     "data": {
      "text/plain": [
       "{'popsa': 0,\n",
       " 'rock': 1,\n",
       " 'classic': 2,\n",
       " 'indi': 3,\n",
       " 'estrada': 4,\n",
       " 'shanson': 5,\n",
       " 'rap': 6}"
      ]
     },
     "execution_count": 24,
     "metadata": {},
     "output_type": "execute_result"
    }
   ],
   "source": [
    "# создадим словарь\n",
    "d = dict(zip(df.music_style.unique(), np.arange(7)))\n",
    "d\n"
   ]
  },
  {
   "cell_type": "code",
   "execution_count": 25,
   "id": "54f8d229",
   "metadata": {},
   "outputs": [],
   "source": [
    "# сделаем преобразование\n",
    "df['music_style_int'] = df['music_style'].map(d)"
   ]
  },
  {
   "cell_type": "markdown",
   "id": "e4164af5",
   "metadata": {},
   "source": [
    "Однако проблема такого способа в том, что мы непроизвольным образом установили **порядок** на наших категориях:\n",
    "$6 > 5 > 4 > 3 > 2 > 1 > 0 \\Rightarrow rap > shanson > estrada > indi > classic > rock > popsa$ \n",
    "\n",
    "\n",
    "Чтобы такого избежать, чаще используется другой метод: **One Hot Encoding**"
   ]
  },
  {
   "cell_type": "markdown",
   "id": "d5f99f43",
   "metadata": {},
   "source": [
    "<center>\n",
    "<img src=\"https://www.statology.org/wp-content/uploads/2021/09/oneHot1.png\" height=\"200\" width=\"600\">\n",
    "</center>   "
   ]
  },
  {
   "cell_type": "markdown",
   "id": "a71069e0",
   "metadata": {},
   "source": [
    "В pandas такое преобразование можно сделать с помощью функции `get_dummies()`"
   ]
  },
  {
   "cell_type": "code",
   "execution_count": 26,
   "id": "bc29b206",
   "metadata": {},
   "outputs": [
    {
     "data": {
      "text/html": [
       "<div>\n",
       "<style scoped>\n",
       "    .dataframe tbody tr th:only-of-type {\n",
       "        vertical-align: middle;\n",
       "    }\n",
       "\n",
       "    .dataframe tbody tr th {\n",
       "        vertical-align: top;\n",
       "    }\n",
       "\n",
       "    .dataframe thead th {\n",
       "        text-align: right;\n",
       "    }\n",
       "</style>\n",
       "<table border=\"1\" class=\"dataframe\">\n",
       "  <thead>\n",
       "    <tr style=\"text-align: right;\">\n",
       "      <th></th>\n",
       "      <th>music_style</th>\n",
       "    </tr>\n",
       "  </thead>\n",
       "  <tbody>\n",
       "    <tr>\n",
       "      <th>7581</th>\n",
       "      <td>rock</td>\n",
       "    </tr>\n",
       "    <tr>\n",
       "      <th>7330</th>\n",
       "      <td>rock</td>\n",
       "    </tr>\n",
       "    <tr>\n",
       "      <th>5685</th>\n",
       "      <td>rock</td>\n",
       "    </tr>\n",
       "    <tr>\n",
       "      <th>2068</th>\n",
       "      <td>popsa</td>\n",
       "    </tr>\n",
       "    <tr>\n",
       "      <th>17843</th>\n",
       "      <td>rap</td>\n",
       "    </tr>\n",
       "  </tbody>\n",
       "</table>\n",
       "</div>"
      ],
      "text/plain": [
       "      music_style\n",
       "7581         rock\n",
       "7330         rock\n",
       "5685         rock\n",
       "2068        popsa\n",
       "17843         rap"
      ]
     },
     "execution_count": 26,
     "metadata": {},
     "output_type": "execute_result"
    }
   ],
   "source": [
    "idx = df['music_style'].sample(5).index\n",
    "\n",
    "df.loc[idx,['music_style']]"
   ]
  },
  {
   "cell_type": "code",
   "execution_count": 27,
   "id": "07639bc1",
   "metadata": {},
   "outputs": [
    {
     "data": {
      "text/html": [
       "<div>\n",
       "<style scoped>\n",
       "    .dataframe tbody tr th:only-of-type {\n",
       "        vertical-align: middle;\n",
       "    }\n",
       "\n",
       "    .dataframe tbody tr th {\n",
       "        vertical-align: top;\n",
       "    }\n",
       "\n",
       "    .dataframe thead th {\n",
       "        text-align: right;\n",
       "    }\n",
       "</style>\n",
       "<table border=\"1\" class=\"dataframe\">\n",
       "  <thead>\n",
       "    <tr style=\"text-align: right;\">\n",
       "      <th></th>\n",
       "      <th>music_style_classic</th>\n",
       "      <th>music_style_estrada</th>\n",
       "      <th>music_style_indi</th>\n",
       "      <th>music_style_popsa</th>\n",
       "      <th>music_style_rap</th>\n",
       "      <th>music_style_rock</th>\n",
       "      <th>music_style_shanson</th>\n",
       "    </tr>\n",
       "  </thead>\n",
       "  <tbody>\n",
       "    <tr>\n",
       "      <th>7581</th>\n",
       "      <td>0</td>\n",
       "      <td>0</td>\n",
       "      <td>0</td>\n",
       "      <td>0</td>\n",
       "      <td>0</td>\n",
       "      <td>1</td>\n",
       "      <td>0</td>\n",
       "    </tr>\n",
       "    <tr>\n",
       "      <th>7330</th>\n",
       "      <td>0</td>\n",
       "      <td>0</td>\n",
       "      <td>0</td>\n",
       "      <td>0</td>\n",
       "      <td>0</td>\n",
       "      <td>1</td>\n",
       "      <td>0</td>\n",
       "    </tr>\n",
       "    <tr>\n",
       "      <th>5685</th>\n",
       "      <td>0</td>\n",
       "      <td>0</td>\n",
       "      <td>0</td>\n",
       "      <td>0</td>\n",
       "      <td>0</td>\n",
       "      <td>1</td>\n",
       "      <td>0</td>\n",
       "    </tr>\n",
       "    <tr>\n",
       "      <th>2068</th>\n",
       "      <td>0</td>\n",
       "      <td>0</td>\n",
       "      <td>0</td>\n",
       "      <td>1</td>\n",
       "      <td>0</td>\n",
       "      <td>0</td>\n",
       "      <td>0</td>\n",
       "    </tr>\n",
       "    <tr>\n",
       "      <th>17843</th>\n",
       "      <td>0</td>\n",
       "      <td>0</td>\n",
       "      <td>0</td>\n",
       "      <td>0</td>\n",
       "      <td>1</td>\n",
       "      <td>0</td>\n",
       "      <td>0</td>\n",
       "    </tr>\n",
       "  </tbody>\n",
       "</table>\n",
       "</div>"
      ],
      "text/plain": [
       "       music_style_classic  music_style_estrada  music_style_indi  \\\n",
       "7581                     0                    0                 0   \n",
       "7330                     0                    0                 0   \n",
       "5685                     0                    0                 0   \n",
       "2068                     0                    0                 0   \n",
       "17843                    0                    0                 0   \n",
       "\n",
       "       music_style_popsa  music_style_rap  music_style_rock  \\\n",
       "7581                   0                0                 1   \n",
       "7330                   0                0                 1   \n",
       "5685                   0                0                 1   \n",
       "2068                   1                0                 0   \n",
       "17843                  0                1                 0   \n",
       "\n",
       "       music_style_shanson  \n",
       "7581                     0  \n",
       "7330                     0  \n",
       "5685                     0  \n",
       "2068                     0  \n",
       "17843                    0  "
      ]
     },
     "execution_count": 27,
     "metadata": {},
     "output_type": "execute_result"
    }
   ],
   "source": [
    "pd.get_dummies(df.loc[:,['music_style']]).loc[idx]"
   ]
  },
  {
   "cell_type": "code",
   "execution_count": 28,
   "id": "e159514d",
   "metadata": {},
   "outputs": [
    {
     "data": {
      "text/html": [
       "<div>\n",
       "<style scoped>\n",
       "    .dataframe tbody tr th:only-of-type {\n",
       "        vertical-align: middle;\n",
       "    }\n",
       "\n",
       "    .dataframe tbody tr th {\n",
       "        vertical-align: top;\n",
       "    }\n",
       "\n",
       "    .dataframe thead th {\n",
       "        text-align: right;\n",
       "    }\n",
       "</style>\n",
       "<table border=\"1\" class=\"dataframe\">\n",
       "  <thead>\n",
       "    <tr style=\"text-align: right;\">\n",
       "      <th></th>\n",
       "      <th>commentCount</th>\n",
       "      <th>dislikeCount</th>\n",
       "      <th>likeCount</th>\n",
       "      <th>viewCount</th>\n",
       "      <th>commentators_uniq</th>\n",
       "      <th>comments_obscene_cnt</th>\n",
       "      <th>video_age</th>\n",
       "      <th>performer</th>\n",
       "      <th>title</th>\n",
       "      <th>music_style_int</th>\n",
       "      <th>music_style_classic</th>\n",
       "      <th>music_style_estrada</th>\n",
       "      <th>music_style_indi</th>\n",
       "      <th>music_style_popsa</th>\n",
       "      <th>music_style_rap</th>\n",
       "      <th>music_style_rock</th>\n",
       "      <th>music_style_shanson</th>\n",
       "    </tr>\n",
       "  </thead>\n",
       "  <tbody>\n",
       "    <tr>\n",
       "      <th>7581</th>\n",
       "      <td>4.0</td>\n",
       "      <td>5.0</td>\n",
       "      <td>95.0</td>\n",
       "      <td>10891.0</td>\n",
       "      <td>4.0</td>\n",
       "      <td>0.0</td>\n",
       "      <td>1090</td>\n",
       "      <td>смысловые_галлюцинации</td>\n",
       "      <td>Смысловые Галлюцинации - Лёд (аудио)</td>\n",
       "      <td>1</td>\n",
       "      <td>0</td>\n",
       "      <td>0</td>\n",
       "      <td>0</td>\n",
       "      <td>0</td>\n",
       "      <td>0</td>\n",
       "      <td>1</td>\n",
       "      <td>0</td>\n",
       "    </tr>\n",
       "    <tr>\n",
       "      <th>7330</th>\n",
       "      <td>0.0</td>\n",
       "      <td>1.0</td>\n",
       "      <td>6.0</td>\n",
       "      <td>2115.0</td>\n",
       "      <td>NaN</td>\n",
       "      <td>NaN</td>\n",
       "      <td>1498</td>\n",
       "      <td>ленинград</td>\n",
       "      <td>Триумф</td>\n",
       "      <td>1</td>\n",
       "      <td>0</td>\n",
       "      <td>0</td>\n",
       "      <td>0</td>\n",
       "      <td>0</td>\n",
       "      <td>0</td>\n",
       "      <td>1</td>\n",
       "      <td>0</td>\n",
       "    </tr>\n",
       "    <tr>\n",
       "      <th>5685</th>\n",
       "      <td>24.0</td>\n",
       "      <td>6.0</td>\n",
       "      <td>164.0</td>\n",
       "      <td>6628.0</td>\n",
       "      <td>13.0</td>\n",
       "      <td>0.0</td>\n",
       "      <td>194</td>\n",
       "      <td>ногу_свело</td>\n",
       "      <td>Ногу Свело! - Пятнадцатилетие (Live)</td>\n",
       "      <td>1</td>\n",
       "      <td>0</td>\n",
       "      <td>0</td>\n",
       "      <td>0</td>\n",
       "      <td>0</td>\n",
       "      <td>0</td>\n",
       "      <td>1</td>\n",
       "      <td>0</td>\n",
       "    </tr>\n",
       "    <tr>\n",
       "      <th>2068</th>\n",
       "      <td>314.0</td>\n",
       "      <td>40.0</td>\n",
       "      <td>2361.0</td>\n",
       "      <td>233158.0</td>\n",
       "      <td>NaN</td>\n",
       "      <td>NaN</td>\n",
       "      <td>54</td>\n",
       "      <td>astudio</td>\n",
       "      <td>A’Studio 30 live – Vol.2 Каменный город | Папа...</td>\n",
       "      <td>0</td>\n",
       "      <td>0</td>\n",
       "      <td>0</td>\n",
       "      <td>0</td>\n",
       "      <td>1</td>\n",
       "      <td>0</td>\n",
       "      <td>0</td>\n",
       "      <td>0</td>\n",
       "    </tr>\n",
       "    <tr>\n",
       "      <th>17843</th>\n",
       "      <td>346.0</td>\n",
       "      <td>1211.0</td>\n",
       "      <td>3332.0</td>\n",
       "      <td>440810.0</td>\n",
       "      <td>271.0</td>\n",
       "      <td>46.0</td>\n",
       "      <td>1349</td>\n",
       "      <td>gazgolder</td>\n",
       "      <td>Смоки Мо - Ноздри (prod. Скриптонит)</td>\n",
       "      <td>6</td>\n",
       "      <td>0</td>\n",
       "      <td>0</td>\n",
       "      <td>0</td>\n",
       "      <td>0</td>\n",
       "      <td>1</td>\n",
       "      <td>0</td>\n",
       "      <td>0</td>\n",
       "    </tr>\n",
       "  </tbody>\n",
       "</table>\n",
       "</div>"
      ],
      "text/plain": [
       "       commentCount  dislikeCount  likeCount  viewCount  commentators_uniq  \\\n",
       "7581            4.0           5.0       95.0    10891.0                4.0   \n",
       "7330            0.0           1.0        6.0     2115.0                NaN   \n",
       "5685           24.0           6.0      164.0     6628.0               13.0   \n",
       "2068          314.0          40.0     2361.0   233158.0                NaN   \n",
       "17843         346.0        1211.0     3332.0   440810.0              271.0   \n",
       "\n",
       "       comments_obscene_cnt  video_age               performer  \\\n",
       "7581                    0.0       1090  смысловые_галлюцинации   \n",
       "7330                    NaN       1498               ленинград   \n",
       "5685                    0.0        194              ногу_свело   \n",
       "2068                    NaN         54                 astudio   \n",
       "17843                  46.0       1349               gazgolder   \n",
       "\n",
       "                                                   title  music_style_int  \\\n",
       "7581                Смысловые Галлюцинации - Лёд (аудио)                1   \n",
       "7330                                              Триумф                1   \n",
       "5685                Ногу Свело! - Пятнадцатилетие (Live)                1   \n",
       "2068   A’Studio 30 live – Vol.2 Каменный город | Папа...                0   \n",
       "17843               Смоки Мо - Ноздри (prod. Скриптонит)                6   \n",
       "\n",
       "       music_style_classic  music_style_estrada  music_style_indi  \\\n",
       "7581                     0                    0                 0   \n",
       "7330                     0                    0                 0   \n",
       "5685                     0                    0                 0   \n",
       "2068                     0                    0                 0   \n",
       "17843                    0                    0                 0   \n",
       "\n",
       "       music_style_popsa  music_style_rap  music_style_rock  \\\n",
       "7581                   0                0                 1   \n",
       "7330                   0                0                 1   \n",
       "5685                   0                0                 1   \n",
       "2068                   1                0                 0   \n",
       "17843                  0                1                 0   \n",
       "\n",
       "       music_style_shanson  \n",
       "7581                     0  \n",
       "7330                     0  \n",
       "5685                     0  \n",
       "2068                     0  \n",
       "17843                    0  "
      ]
     },
     "execution_count": 28,
     "metadata": {},
     "output_type": "execute_result"
    }
   ],
   "source": [
    "pd.get_dummies(df, columns=['music_style']).loc[idx]"
   ]
  },
  {
   "cell_type": "code",
   "execution_count": 29,
   "id": "8bbbe03e",
   "metadata": {},
   "outputs": [
    {
     "data": {
      "text/plain": [
       "music_style_classic    0.015583\n",
       "music_style_estrada    0.217057\n",
       "music_style_indi       0.071063\n",
       "music_style_popsa      0.174597\n",
       "music_style_rap        0.106045\n",
       "music_style_rock       0.307885\n",
       "music_style_shanson    0.107770\n",
       "dtype: float64"
      ]
     },
     "execution_count": 29,
     "metadata": {},
     "output_type": "execute_result"
    }
   ],
   "source": [
    "pd.get_dummies(df.loc[:,['music_style']]).mean()"
   ]
  },
  {
   "cell_type": "markdown",
   "id": "f292acea",
   "metadata": {},
   "source": [
    "Такой метод тоже имеет свои проблемы, которые выходят за рамки нашего курса. Например, это полная мультиколлинеарность (или линейная зависимость) столбцов. Подробнее об этом можно посмотреть здесь: https://www.youtube.com/watch?v=k9PPuTmTLMk"
   ]
  },
  {
   "cell_type": "markdown",
   "id": "1bc200c9",
   "metadata": {},
   "source": [
    "### Работа с датой и временем"
   ]
  },
  {
   "cell_type": "markdown",
   "id": "60e65545",
   "metadata": {},
   "source": [
    "Для даты и времени в python есть свой тип переменных: datetime / timestamp. Все полезные методы, оперирующие над датами можно найти либо в пакете pandas, либо в дополнительном пакете `datetime`"
   ]
  },
  {
   "cell_type": "code",
   "execution_count": 30,
   "id": "e053e926",
   "metadata": {},
   "outputs": [],
   "source": [
    "# питоне есть стандартная библиотека datetime для работы с датаами\n",
    "import datetime"
   ]
  },
  {
   "cell_type": "code",
   "execution_count": 31,
   "id": "e162745f",
   "metadata": {},
   "outputs": [
    {
     "data": {
      "text/plain": [
       "datetime.datetime(2022, 5, 14, 18, 10, 31, 746877)"
      ]
     },
     "execution_count": 31,
     "metadata": {},
     "output_type": "execute_result"
    }
   ],
   "source": [
    "# можно получить сегодняшнее число\n",
    "now = datetime.datetime.today()\n",
    "now"
   ]
  },
  {
   "cell_type": "code",
   "execution_count": 32,
   "id": "5ad9d790",
   "metadata": {},
   "outputs": [
    {
     "data": {
      "text/plain": [
       "2022"
      ]
     },
     "execution_count": 32,
     "metadata": {},
     "output_type": "execute_result"
    }
   ],
   "source": [
    "# какой сегодня год?\n",
    "now.year"
   ]
  },
  {
   "cell_type": "code",
   "execution_count": 33,
   "id": "541e344d",
   "metadata": {},
   "outputs": [
    {
     "data": {
      "text/plain": [
       "'14/05/2022'"
      ]
     },
     "execution_count": 33,
     "metadata": {},
     "output_type": "execute_result"
    }
   ],
   "source": [
    "# преобразуем в строку удобного нам формата\n",
    "now.strftime('%d/%m/%Y')"
   ]
  },
  {
   "cell_type": "code",
   "execution_count": 34,
   "id": "0dfd5564",
   "metadata": {},
   "outputs": [
    {
     "data": {
      "text/plain": [
       "'12/05/2022'"
      ]
     },
     "execution_count": 34,
     "metadata": {},
     "output_type": "execute_result"
    }
   ],
   "source": [
    "# даты можно вычитать с помощью timedelta\n",
    "# какая дата была 2 дня назад?\n",
    "(now - datetime.timedelta(days=2)).strftime('%d/%m/%Y')"
   ]
  },
  {
   "cell_type": "code",
   "execution_count": 35,
   "id": "f75ce003",
   "metadata": {},
   "outputs": [
    {
     "data": {
      "text/plain": [
       "Timestamp('2020-01-01 00:00:00')"
      ]
     },
     "execution_count": 35,
     "metadata": {},
     "output_type": "execute_result"
    }
   ],
   "source": [
    "# в пандас есть надстройка над datetime\n",
    "date = pd.to_datetime('01/01/20')\n",
    "date"
   ]
  },
  {
   "cell_type": "code",
   "execution_count": 36,
   "id": "0347fe2f",
   "metadata": {},
   "outputs": [
    {
     "data": {
      "text/plain": [
       "2020"
      ]
     },
     "execution_count": 36,
     "metadata": {},
     "output_type": "execute_result"
    }
   ],
   "source": [
    "# люой элемент из даты можно так же извлечь\n",
    "date.year"
   ]
  },
  {
   "cell_type": "code",
   "execution_count": 37,
   "id": "8f66939b",
   "metadata": {},
   "outputs": [
    {
     "data": {
      "text/plain": [
       "(2, 'Wednesday')"
      ]
     },
     "execution_count": 37,
     "metadata": {},
     "output_type": "execute_result"
    }
   ],
   "source": [
    "# день недели числовый и текстовый\n",
    "date.day_of_week, date.day_name()"
   ]
  },
  {
   "cell_type": "code",
   "execution_count": 38,
   "id": "8b3295c2",
   "metadata": {},
   "outputs": [
    {
     "data": {
      "text/plain": [
       "31"
      ]
     },
     "execution_count": 38,
     "metadata": {},
     "output_type": "execute_result"
    }
   ],
   "source": [
    "# сколько дней в месяце\n",
    "date.days_in_month"
   ]
  },
  {
   "cell_type": "markdown",
   "id": "65d2da4c",
   "metadata": {},
   "source": [
    "#### **Задача №4**\n",
    "\n",
    "В нашем датасете есть колонка `video_age`, которая показывает нам возраст нашего клипа в днях с 15 марта 2019 года. Опираясь на нее, получите для каждого клипа дату его публикации и сохраните в новую колонку. "
   ]
  },
  {
   "cell_type": "code",
   "execution_count": 39,
   "id": "22f6e0a2",
   "metadata": {},
   "outputs": [
    {
     "data": {
      "text/plain": [
       "20      2016-11-20\n",
       "16758   2011-12-15\n",
       "11440   2017-12-06\n",
       "9260    2013-04-24\n",
       "14107   2014-12-11\n",
       "Name: date, dtype: datetime64[ns]"
      ]
     },
     "execution_count": 39,
     "metadata": {},
     "output_type": "execute_result"
    }
   ],
   "source": [
    "df['date'] = df['video_age'].apply(lambda x: pd.to_datetime('15/03/19') - datetime.timedelta(days=x))\n",
    "df['date'].sample(5)"
   ]
  },
  {
   "cell_type": "markdown",
   "id": "fa6794fb",
   "metadata": {},
   "source": [
    "#### **Задача №5**\n",
    "\n",
    "Какое распределение кол-ва выпущенных клипов по годам? "
   ]
  },
  {
   "cell_type": "code",
   "execution_count": 40,
   "id": "73e436f5",
   "metadata": {
    "scrolled": true
   },
   "outputs": [
    {
     "data": {
      "image/png": "[encoded data removed]",
      "text/plain": [
       "<Figure size 432x288 with 1 Axes>"
      ]
     },
     "metadata": {},
     "output_type": "display_data"
    }
   ],
   "source": [
    "# df['title'].str.upper() по аналогии как с str нужно указать, что используем метод datetime, указав dt\n",
    "df['year'] = df['date'].dt.year\n",
    "df['year'].value_counts().sort_index().plot(kind='bar');"
   ]
  },
  {
   "cell_type": "markdown",
   "id": "53a2d679",
   "metadata": {},
   "source": [
    "#### **Задача №6**\n",
    "\n",
    "\n",
    "Выведите месяц, в течение которого на ютуб опубликовали больше всего клипов"
   ]
  },
  {
   "cell_type": "code",
   "execution_count": 41,
   "id": "d44f1a85",
   "metadata": {},
   "outputs": [
    {
     "data": {
      "text/plain": [
       "6     1995\n",
       "3     1935\n",
       "5     1769\n",
       "4     1733\n",
       "10    1725\n",
       "12    1650\n",
       "2     1614\n",
       "11    1483\n",
       "1     1473\n",
       "9     1472\n",
       "8     1149\n",
       "7     1126\n",
       "Name: month, dtype: int64"
      ]
     },
     "execution_count": 41,
     "metadata": {},
     "output_type": "execute_result"
    }
   ],
   "source": [
    "df['month'] = df['date'].dt.month\n",
    "df['month'].value_counts()"
   ]
  },
  {
   "cell_type": "markdown",
   "id": "eafdc90e",
   "metadata": {},
   "source": [
    "## Пропущенные значения"
   ]
  },
  {
   "cell_type": "markdown",
   "id": "87ad046a",
   "metadata": {},
   "source": [
    "Пропуски в данных $-$ это противная проблема, с которой можно столкнуться при работе. Пропуски возникают практически всегда. Причинами пропусков может быть, например, технические возможности вашего парсера, который не смог достать часть информации из сайта, либо, например, если вы Юрий Дудь и опрашиваете людей об их заработке, собирая статистику для дальнейшего исследования, то вряд ли каждый человек захочет вам ответить. "
   ]
  },
  {
   "cell_type": "markdown",
   "id": "0050b222",
   "metadata": {},
   "source": [
    "### Выявление"
   ]
  },
  {
   "cell_type": "code",
   "execution_count": 42,
   "id": "e8c40755",
   "metadata": {},
   "outputs": [
    {
     "name": "stdout",
     "output_type": "stream",
     "text": [
      "<class 'pandas.core.frame.DataFrame'>\n",
      "RangeIndex: 19124 entries, 0 to 19123\n",
      "Data columns (total 14 columns):\n",
      " #   Column                Non-Null Count  Dtype         \n",
      "---  ------                --------------  -----         \n",
      " 0   commentCount          18914 non-null  float64       \n",
      " 1   dislikeCount          18850 non-null  float64       \n",
      " 2   likeCount             18850 non-null  float64       \n",
      " 3   viewCount             19123 non-null  float64       \n",
      " 4   commentators_uniq     12314 non-null  float64       \n",
      " 5   comments_obscene_cnt  12314 non-null  float64       \n",
      " 6   video_age             19124 non-null  int64         \n",
      " 7   performer             19124 non-null  object        \n",
      " 8   title                 19124 non-null  object        \n",
      " 9   music_style           19124 non-null  object        \n",
      " 10  music_style_int       19124 non-null  int64         \n",
      " 11  date                  19124 non-null  datetime64[ns]\n",
      " 12  year                  19124 non-null  int64         \n",
      " 13  month                 19124 non-null  int64         \n",
      "dtypes: datetime64[ns](1), float64(6), int64(4), object(3)\n",
      "memory usage: 2.0+ MB\n"
     ]
    }
   ],
   "source": [
    "df.info()"
   ]
  },
  {
   "cell_type": "code",
   "execution_count": 43,
   "id": "65176263",
   "metadata": {
    "scrolled": true
   },
   "outputs": [
    {
     "data": {
      "text/plain": [
       "commentCount            0.010981\n",
       "dislikeCount            0.014328\n",
       "likeCount               0.014328\n",
       "viewCount               0.000052\n",
       "commentators_uniq       0.356097\n",
       "comments_obscene_cnt    0.356097\n",
       "video_age               0.000000\n",
       "performer               0.000000\n",
       "title                   0.000000\n",
       "music_style             0.000000\n",
       "music_style_int         0.000000\n",
       "date                    0.000000\n",
       "year                    0.000000\n",
       "month                   0.000000\n",
       "dtype: float64"
      ]
     },
     "execution_count": 43,
     "metadata": {},
     "output_type": "execute_result"
    }
   ],
   "source": [
    "df.isnull().mean()"
   ]
  },
  {
   "cell_type": "code",
   "execution_count": 44,
   "id": "dc4cda23",
   "metadata": {},
   "outputs": [
    {
     "data": {
      "image/png": "[encoded data removed]",
      "text/plain": [
       "<Figure size 1440x864 with 1 Axes>"
      ]
     },
     "metadata": {},
     "output_type": "display_data"
    }
   ],
   "source": [
    "fig, ax = plt.subplots(figsize=(20,12))\n",
    "sns_heatmap = sns.heatmap(df.isnull(), yticklabels=False, cbar=False, cmap='viridis')"
   ]
  },
  {
   "cell_type": "markdown",
   "id": "d3711075",
   "metadata": {},
   "source": [
    "### Удаление"
   ]
  },
  {
   "cell_type": "code",
   "execution_count": 45,
   "id": "148278c1",
   "metadata": {},
   "outputs": [
    {
     "name": "stdout",
     "output_type": "stream",
     "text": [
      "(19124, 14)\n",
      "(12116, 14)\n",
      "(12314, 14)\n",
      "(19124, 8)\n"
     ]
    }
   ],
   "source": [
    "print(df.shape)\n",
    "\n",
    "# по умолчанию удаляет строки, где есть na\n",
    "print(df.dropna().shape)\n",
    "\n",
    "# удалим строки, если есть пропуски в перечисленных колонках\n",
    "cols_to_clean = ['commentators_uniq','comments_obscene_cnt']\n",
    "print(df.dropna(subset=cols_to_clean).shape)\n",
    "\n",
    "# можем удалять столбцы, где есть хотя бы один пропуск\n",
    "print(df.dropna(axis=1).shape)"
   ]
  },
  {
   "cell_type": "markdown",
   "id": "ffb25205",
   "metadata": {},
   "source": [
    "Часто удаление слишком дорогая операция, так как избавляемся от кучи данных, которых и так частенько бывает мало"
   ]
  },
  {
   "cell_type": "markdown",
   "id": "e28c6b72",
   "metadata": {},
   "source": [
    "### Заполнение"
   ]
  },
  {
   "cell_type": "code",
   "execution_count": 46,
   "id": "6d378ec1",
   "metadata": {},
   "outputs": [
    {
     "data": {
      "text/plain": [
       "0    24.0\n",
       "1     NaN\n",
       "2    27.0\n",
       "3     2.0\n",
       "dtype: float64"
      ]
     },
     "execution_count": 46,
     "metadata": {},
     "output_type": "execute_result"
    }
   ],
   "source": [
    "# было\n",
    "ser = pd.Series([24, np.nan, 27, 2])\n",
    "ser"
   ]
  },
  {
   "cell_type": "code",
   "execution_count": 47,
   "id": "1e7a4f81",
   "metadata": {},
   "outputs": [
    {
     "data": {
      "text/plain": [
       "0    24.0\n",
       "1     0.0\n",
       "2    27.0\n",
       "3     2.0\n",
       "dtype: float64"
      ]
     },
     "execution_count": 47,
     "metadata": {},
     "output_type": "execute_result"
    }
   ],
   "source": [
    "# заполняем нулем\n",
    "ser.fillna(0)"
   ]
  },
  {
   "cell_type": "code",
   "execution_count": 48,
   "id": "cf45647a",
   "metadata": {},
   "outputs": [
    {
     "data": {
      "text/plain": [
       "0    24.0\n",
       "1    24.0\n",
       "2    27.0\n",
       "3     2.0\n",
       "dtype: float64"
      ]
     },
     "execution_count": 48,
     "metadata": {},
     "output_type": "execute_result"
    }
   ],
   "source": [
    "# заполняем медианой или средним\n",
    "ser.fillna(ser.median())"
   ]
  },
  {
   "cell_type": "code",
   "execution_count": 49,
   "id": "0a0db621",
   "metadata": {},
   "outputs": [
    {
     "data": {
      "text/plain": [
       "0    24.0\n",
       "1    24.0\n",
       "2    27.0\n",
       "3     2.0\n",
       "dtype: float64"
      ]
     },
     "execution_count": 49,
     "metadata": {},
     "output_type": "execute_result"
    }
   ],
   "source": [
    "# заполняем предыдущим значением\n",
    "ser.fillna(method='ffill')"
   ]
  },
  {
   "cell_type": "code",
   "execution_count": 50,
   "id": "78c9a139",
   "metadata": {},
   "outputs": [
    {
     "data": {
      "text/plain": [
       "0    24.0\n",
       "1    27.0\n",
       "2    27.0\n",
       "3     2.0\n",
       "dtype: float64"
      ]
     },
     "execution_count": 50,
     "metadata": {},
     "output_type": "execute_result"
    }
   ],
   "source": [
    "# заполняем последующим значением\n",
    "ser.fillna(method='bfill')"
   ]
  },
  {
   "cell_type": "markdown",
   "id": "9b337e76",
   "metadata": {},
   "source": [
    "#### **Задача №7**\n",
    "\n",
    "Заполните пропуски в столбцах таблицы по клипам средними"
   ]
  },
  {
   "cell_type": "code",
   "execution_count": 51,
   "id": "c667d6b4",
   "metadata": {},
   "outputs": [],
   "source": [
    "df = df.fillna(df.mean())"
   ]
  },
  {
   "cell_type": "markdown",
   "id": "cbe63720",
   "metadata": {},
   "source": [
    "## Обнаружение аномалий"
   ]
  },
  {
   "cell_type": "markdown",
   "id": "84f66c6b",
   "metadata": {},
   "source": [
    "Аномалии в данных $-$ это столь же частая проблема, что и пропущенные значения, однако более серьезная. Посмотрим на примере, как аномалии могут все испортить:  \n",
    "\n",
    "### Оцениваем средний рост людей в школьном классе:\n",
    "\n",
    "Представим, что мы хотим оценить средний рост людей в школьном классе. Имеем следующую таблицу:"
   ]
  },
  {
   "cell_type": "code",
   "execution_count": 52,
   "id": "93f4a62c",
   "metadata": {},
   "outputs": [
    {
     "data": {
      "text/html": [
       "<div>\n",
       "<style scoped>\n",
       "    .dataframe tbody tr th:only-of-type {\n",
       "        vertical-align: middle;\n",
       "    }\n",
       "\n",
       "    .dataframe tbody tr th {\n",
       "        vertical-align: top;\n",
       "    }\n",
       "\n",
       "    .dataframe thead th {\n",
       "        text-align: right;\n",
       "    }\n",
       "</style>\n",
       "<table border=\"1\" class=\"dataframe\">\n",
       "  <thead>\n",
       "    <tr style=\"text-align: right;\">\n",
       "      <th></th>\n",
       "      <th>student</th>\n",
       "      <th>height_cm</th>\n",
       "    </tr>\n",
       "  </thead>\n",
       "  <tbody>\n",
       "    <tr>\n",
       "      <th>0</th>\n",
       "      <td>Max</td>\n",
       "      <td>170</td>\n",
       "    </tr>\n",
       "    <tr>\n",
       "      <th>1</th>\n",
       "      <td>Ahmed</td>\n",
       "      <td>165</td>\n",
       "    </tr>\n",
       "    <tr>\n",
       "      <th>2</th>\n",
       "      <td>Nastya</td>\n",
       "      <td>171</td>\n",
       "    </tr>\n",
       "    <tr>\n",
       "      <th>3</th>\n",
       "      <td>Vlad</td>\n",
       "      <td>168</td>\n",
       "    </tr>\n",
       "  </tbody>\n",
       "</table>\n",
       "</div>"
      ],
      "text/plain": [
       "  student  height_cm\n",
       "0     Max        170\n",
       "1   Ahmed        165\n",
       "2  Nastya        171\n",
       "3    Vlad        168"
      ]
     },
     "execution_count": 52,
     "metadata": {},
     "output_type": "execute_result"
    }
   ],
   "source": [
    "students = pd.DataFrame({'student': ['Max', 'Ahmed', 'Nastya', 'Vlad'],\n",
    "                        'height_cm': [170, 165, 171, 168]})\n",
    "\n",
    "students"
   ]
  },
  {
   "cell_type": "markdown",
   "id": "46d978c9",
   "metadata": {},
   "source": [
    "Найдем среднее:"
   ]
  },
  {
   "cell_type": "code",
   "execution_count": 53,
   "id": "48c40eef",
   "metadata": {},
   "outputs": [
    {
     "data": {
      "text/plain": [
       "168.5"
      ]
     },
     "execution_count": 53,
     "metadata": {},
     "output_type": "execute_result"
    }
   ],
   "source": [
    "students['height_cm'].mean()"
   ]
  },
  {
   "cell_type": "markdown",
   "id": "52a7186f",
   "metadata": {},
   "source": [
    "Найдем медиану:"
   ]
  },
  {
   "cell_type": "code",
   "execution_count": 54,
   "id": "3456a28c",
   "metadata": {},
   "outputs": [
    {
     "data": {
      "text/plain": [
       "169.0"
      ]
     },
     "execution_count": 54,
     "metadata": {},
     "output_type": "execute_result"
    }
   ],
   "source": [
    "students['height_cm'].median()"
   ]
  },
  {
   "cell_type": "markdown",
   "id": "d3547664",
   "metadata": {},
   "source": [
    "Теперь представим, что в наш класс пришел новенький Филипп, который остался на второй год из-за того, что играл в баскетбол, а не учился. У нас в таблице появилось новое наблюдение, попробуем оценить рост теперь. "
   ]
  },
  {
   "cell_type": "code",
   "execution_count": 55,
   "id": "5150b390",
   "metadata": {},
   "outputs": [
    {
     "data": {
      "text/html": [
       "<div>\n",
       "<style scoped>\n",
       "    .dataframe tbody tr th:only-of-type {\n",
       "        vertical-align: middle;\n",
       "    }\n",
       "\n",
       "    .dataframe tbody tr th {\n",
       "        vertical-align: top;\n",
       "    }\n",
       "\n",
       "    .dataframe thead th {\n",
       "        text-align: right;\n",
       "    }\n",
       "</style>\n",
       "<table border=\"1\" class=\"dataframe\">\n",
       "  <thead>\n",
       "    <tr style=\"text-align: right;\">\n",
       "      <th></th>\n",
       "      <th>student</th>\n",
       "      <th>height_cm</th>\n",
       "    </tr>\n",
       "  </thead>\n",
       "  <tbody>\n",
       "    <tr>\n",
       "      <th>0</th>\n",
       "      <td>Max</td>\n",
       "      <td>170</td>\n",
       "    </tr>\n",
       "    <tr>\n",
       "      <th>1</th>\n",
       "      <td>Ahmed</td>\n",
       "      <td>165</td>\n",
       "    </tr>\n",
       "    <tr>\n",
       "      <th>2</th>\n",
       "      <td>Nastya</td>\n",
       "      <td>171</td>\n",
       "    </tr>\n",
       "    <tr>\n",
       "      <th>3</th>\n",
       "      <td>Vlad</td>\n",
       "      <td>168</td>\n",
       "    </tr>\n",
       "    <tr>\n",
       "      <th>4</th>\n",
       "      <td>Phil</td>\n",
       "      <td>230</td>\n",
       "    </tr>\n",
       "  </tbody>\n",
       "</table>\n",
       "</div>"
      ],
      "text/plain": [
       "  student  height_cm\n",
       "0     Max        170\n",
       "1   Ahmed        165\n",
       "2  Nastya        171\n",
       "3    Vlad        168\n",
       "4    Phil        230"
      ]
     },
     "execution_count": 55,
     "metadata": {},
     "output_type": "execute_result"
    }
   ],
   "source": [
    "students.loc[4] = ['Phil', 230]\n",
    "students"
   ]
  },
  {
   "cell_type": "code",
   "execution_count": 56,
   "id": "47a20578",
   "metadata": {},
   "outputs": [
    {
     "data": {
      "text/plain": [
       "180.8"
      ]
     },
     "execution_count": 56,
     "metadata": {},
     "output_type": "execute_result"
    }
   ],
   "source": [
    "students['height_cm'].mean()"
   ]
  },
  {
   "cell_type": "markdown",
   "id": "6ca89fe9",
   "metadata": {},
   "source": [
    "Видим, что значение среднего роста *сильно изменилось* из-за одного человека, имеющего неспецифичный (*аномальный*) рост для нашей выборки. Связано это с тем, что Филипп пришел к нам в класс *из другого распределения* $-$ распределения баскетболистов. Именно поэтому значение нашего среднего теперь *сильно завышено*, и мы таким образом можем собрать *ошибочную статистику*."
   ]
  },
  {
   "cell_type": "markdown",
   "id": "491e5421",
   "metadata": {},
   "source": [
    "Возможное решение: использовать для агрегированной статистики квантили (например, медиану)"
   ]
  },
  {
   "cell_type": "code",
   "execution_count": 57,
   "id": "59adae90",
   "metadata": {},
   "outputs": [
    {
     "data": {
      "text/plain": [
       "170.0"
      ]
     },
     "execution_count": 57,
     "metadata": {},
     "output_type": "execute_result"
    }
   ],
   "source": [
    "students['height_cm'].median()"
   ]
  },
  {
   "cell_type": "markdown",
   "id": "c2179a22",
   "metadata": {},
   "source": [
    "**ЗАПОМНИТЬ: Медиана в отличие от среднего устойчива к выбросам!**"
   ]
  },
  {
   "cell_type": "markdown",
   "id": "57ed78d4",
   "metadata": {},
   "source": [
    "### Выявление и удаление выбросов на примере клипов:"
   ]
  },
  {
   "cell_type": "code",
   "execution_count": 58,
   "id": "5e6b6ca3",
   "metadata": {},
   "outputs": [
    {
     "data": {
      "text/plain": [
       "5735.014482758621"
      ]
     },
     "execution_count": 58,
     "metadata": {},
     "output_type": "execute_result"
    }
   ],
   "source": [
    "df['likeCount'].mean()"
   ]
  },
  {
   "cell_type": "code",
   "execution_count": 59,
   "id": "aab3801a",
   "metadata": {},
   "outputs": [
    {
     "data": {
      "text/plain": [
       "106.0"
      ]
     },
     "execution_count": 59,
     "metadata": {},
     "output_type": "execute_result"
    }
   ],
   "source": [
    "df['likeCount'].median()"
   ]
  },
  {
   "cell_type": "markdown",
   "id": "9bd64f92",
   "metadata": {},
   "source": [
    "Видим сильное завышение среднего по лайкам в отличие от медианы. Причина - аномалии. "
   ]
  },
  {
   "cell_type": "markdown",
   "id": "da0cc733",
   "metadata": {},
   "source": [
    "На распределении виден длинный хвост:"
   ]
  },
  {
   "cell_type": "code",
   "execution_count": 60,
   "id": "1e9a7ee9",
   "metadata": {},
   "outputs": [
    {
     "data": {
      "image/png": "[encoded data removed]",
      "text/plain": [
       "<Figure size 432x288 with 1 Axes>"
      ]
     },
     "metadata": {},
     "output_type": "display_data"
    }
   ],
   "source": [
    "df['likeCount'].hist(bins=30);"
   ]
  },
  {
   "cell_type": "markdown",
   "id": "5431251b",
   "metadata": {},
   "source": [
    "Если не особо виден, то можно посмотреть на лог шкалу:"
   ]
  },
  {
   "cell_type": "code",
   "execution_count": 61,
   "id": "66854fe7",
   "metadata": {},
   "outputs": [
    {
     "data": {
      "image/png": "[encoded data removed]",
      "text/plain": [
       "<Figure size 432x288 with 1 Axes>"
      ]
     },
     "metadata": {},
     "output_type": "display_data"
    }
   ],
   "source": [
    "df['likeCount'].hist(bins=30, log=True);"
   ]
  },
  {
   "cell_type": "markdown",
   "id": "8fdbfe7d",
   "metadata": {},
   "source": [
    "То есть у нас в выборке есть клипы с аномальным кол-вом лайков - так называемые хиты. Они то нам и портят всю статистику.  \n",
    "\n",
    "Попробуем от них избавиться:\n",
    "\n",
    "**Способ №1:** Откинем $10\\%$ нашей выборки клипов, у которых больше всего лайков. Воспользуемся для этого $90\\%$ персентилем."
   ]
  },
  {
   "cell_type": "code",
   "execution_count": 62,
   "id": "1fd2ff59",
   "metadata": {},
   "outputs": [
    {
     "data": {
      "image/png": "[encoded data removed]",
      "text/plain": [
       "<Figure size 432x288 with 1 Axes>"
      ]
     },
     "metadata": {},
     "output_type": "display_data"
    }
   ],
   "source": [
    "threshold = df['likeCount'].quantile(0.90)\n",
    "df_clear = df[df['likeCount'] <= threshold]\n",
    "\n",
    "# визуализируем\n",
    "df_clear['likeCount'].hist(bins=30);"
   ]
  },
  {
   "cell_type": "markdown",
   "id": "b7d0809a",
   "metadata": {},
   "source": [
    "**Способ №2:** Считаем аномалиями все наблюдения, которые оказались за пределами трех межквартильных отклонений.  \n"
   ]
  },
  {
   "cell_type": "markdown",
   "id": "9188f6a1",
   "metadata": {},
   "source": [
    "#### **Задача №8**\n",
    "\n",
    "Реализовать этот метод. Межквартильное отклонение (IQR) - это разница между 25-м и 75-м перцентилями. \n",
    "\n",
    "<center>\n",
    "<img src=\"https://miro.medium.com/max/1400/1*2c21SkzJMf3frPXPAR_gZA.png\" height=\"200\" width=\"600\">\n",
    "</center>   "
   ]
  },
  {
   "cell_type": "code",
   "execution_count": 63,
   "id": "592ecda6",
   "metadata": {},
   "outputs": [],
   "source": [
    "q3 = df['likeCount'].quantile(0.75)\n",
    "q1 = df['likeCount'].quantile(0.25)\n",
    "IQR = q3-q1\n",
    "min_ = q1-3*IQR\n",
    "max_ = q3+3*IQR\n"
   ]
  },
  {
   "cell_type": "code",
   "execution_count": 64,
   "id": "b4442a89",
   "metadata": {},
   "outputs": [
    {
     "data": {
      "image/png": "[encoded data removed]",
      "text/plain": [
       "<Figure size 432x288 with 1 Axes>"
      ]
     },
     "metadata": {},
     "output_type": "display_data"
    }
   ],
   "source": [
    "df_clear2 = df[df['likeCount'].apply(lambda x: min_<x<max_)]\n",
    "df_clear2['likeCount'].hist(bins=30);"
   ]
  },
  {
   "cell_type": "markdown",
   "id": "db3babf4",
   "metadata": {},
   "source": [
    "Стоит отметить, что иногда искать аномалии требуется не только для обработки данных. Порой, поиск аномалий $-$ это и есть задача. Так, например, аномалиями являются мошенники банка, чье поведение отличается от обычных пользователей. И поиск таких людей и является нашей задачей. "
   ]
  }
 ],
 "metadata": {
  "kernelspec": {
   "display_name": "Python 3 (ipykernel)",
   "language": "python",
   "name": "python3"
  },
  "language_info": {
   "codemirror_mode": {
    "name": "ipython",
    "version": 3
   },
   "file_extension": ".py",
   "mimetype": "text/x-python",
   "name": "python",
   "nbconvert_exporter": "python",
   "pygments_lexer": "ipython3",
   "version": "3.10.4"
  },
  "toc": {
   "base_numbering": 1,
   "nav_menu": {},
   "number_sections": false,
   "sideBar": true,
   "skip_h1_title": true,
   "title_cell": "Table of Contents",
   "title_sidebar": "Contents",
   "toc_cell": true,
   "toc_position": {
    "height": "calc(100% - 180px)",
    "left": "10px",
    "top": "150px",
    "width": "288px"
   },
   "toc_section_display": true,
   "toc_window_display": true
  }
 },
 "nbformat": 4,
 "nbformat_minor": 5
}
