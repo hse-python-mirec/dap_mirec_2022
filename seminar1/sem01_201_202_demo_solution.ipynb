{
  "nbformat": 4,
  "nbformat_minor": 0,
  "metadata": {
    "colab": {
      "name": "sem01_201-202_demo_solution.ipynb",
      "provenance": [],
      "collapsed_sections": [],
      "toc_visible": true
    },
    "kernelspec": {
      "name": "python3",
      "display_name": "Python 3"
    },
    "language_info": {
      "name": "python"
    }
  },
  "cells": [
    {
      "cell_type": "markdown",
      "source": [
        "задания тут\n",
        "\n",
        "https://online.hse.ru/mod/quiz/view.php?id=352214"
      ],
      "metadata": {
        "id": "SMjFbiljzwnU"
      }
    },
    {
      "cell_type": "markdown",
      "source": [
        "## 1"
      ],
      "metadata": {
        "id": "ssskmQD4MsPH"
      }
    },
    {
      "cell_type": "code",
      "execution_count": 3,
      "metadata": {
        "id": "fAsSeIgGWEfF",
        "colab": {
          "base_uri": "https://localhost:8080/"
        },
        "outputId": "c1cc4d8b-44a0-4419-fc47-1f1b1802f9db"
      },
      "outputs": [
        {
          "output_type": "execute_result",
          "data": {
            "text/plain": [
              "[0, 1, 4, 9, 16, 25, 36, 49, 64, 81]"
            ]
          },
          "metadata": {},
          "execution_count": 3
        }
      ],
      "source": [
        "a = []\n",
        "for i in range(10):\n",
        "    a.append(i**2)\n",
        "\n",
        "a"
      ]
    },
    {
      "cell_type": "code",
      "source": [
        "word = 'qwerty'\n",
        "\n",
        "word.find('er')"
      ],
      "metadata": {
        "colab": {
          "base_uri": "https://localhost:8080/"
        },
        "id": "gqWIpLkZL_Ik",
        "outputId": "422ce757-473f-46cf-9291-465e39d4d838"
      },
      "execution_count": 6,
      "outputs": [
        {
          "output_type": "execute_result",
          "data": {
            "text/plain": [
              "2"
            ]
          },
          "metadata": {},
          "execution_count": 6
        }
      ]
    },
    {
      "cell_type": "code",
      "source": [
        "word[2:]"
      ],
      "metadata": {
        "colab": {
          "base_uri": "https://localhost:8080/",
          "height": 35
        },
        "id": "OkWEXTQvMoct",
        "outputId": "25838c7f-7656-45c5-8a3d-56d55855c626"
      },
      "execution_count": 7,
      "outputs": [
        {
          "output_type": "execute_result",
          "data": {
            "text/plain": [
              "'erty'"
            ],
            "application/vnd.google.colaboratory.intrinsic+json": {
              "type": "string"
            }
          },
          "metadata": {},
          "execution_count": 7
        }
      ]
    },
    {
      "cell_type": "code",
      "source": [
        "\n",
        "a = [\"cat\",\"bacbac\",\"account\",\"acca\",\"acabaca\"]\n",
        "for w in a:\n",
        "    print(w, w.find('ac'), w.rfind('ac'), sep='\\t')"
      ],
      "metadata": {
        "colab": {
          "base_uri": "https://localhost:8080/"
        },
        "id": "j_OuYXgxdG23",
        "outputId": "a75846cb-0cb5-475e-c837-1c643e96b65b"
      },
      "execution_count": 8,
      "outputs": [
        {
          "output_type": "stream",
          "name": "stdout",
          "text": [
            "cat\t-1\t-1\n",
            "bacbac\t1\t4\n",
            "account\t0\t0\n",
            "acca\t0\t0\n",
            "acabaca\t0\t4\n"
          ]
        }
      ]
    },
    {
      "cell_type": "markdown",
      "source": [
        "## 3"
      ],
      "metadata": {
        "id": "EDjpQOhZNc-F"
      }
    },
    {
      "cell_type": "markdown",
      "source": [
        "## 2"
      ],
      "metadata": {
        "id": "HqzI5itLNVVC"
      }
    },
    {
      "cell_type": "code",
      "source": [
        "marks = [2,2,2,2,2,5,5,5,5,5,6,6,6,6,6]\n",
        "marks_set = set(marks)\n",
        "print(*sorted(marks_set))\n"
      ],
      "metadata": {
        "colab": {
          "base_uri": "https://localhost:8080/"
        },
        "id": "kajPAYttd872",
        "outputId": "9488e8eb-9fab-4c7e-bd42-fe37c908dfd6"
      },
      "execution_count": 10,
      "outputs": [
        {
          "output_type": "stream",
          "name": "stdout",
          "text": [
            "2 5 6\n"
          ]
        }
      ]
    },
    {
      "cell_type": "code",
      "source": [
        "set('aaaaaabbbbbbb')"
      ],
      "metadata": {
        "colab": {
          "base_uri": "https://localhost:8080/"
        },
        "id": "5XPznb3xfWxX",
        "outputId": "875c3087-dd4d-41de-8370-ef8fb4790daa"
      },
      "execution_count": 11,
      "outputs": [
        {
          "output_type": "execute_result",
          "data": {
            "text/plain": [
              "{'a', 'b'}"
            ]
          },
          "metadata": {},
          "execution_count": 11
        }
      ]
    },
    {
      "cell_type": "markdown",
      "source": [
        "## 4"
      ],
      "metadata": {
        "id": "PPncyox6PVl6"
      }
    },
    {
      "cell_type": "code",
      "source": [
        "text = 'cat cat cat cat drinks drinks drinks  milk milk and another cat plays' \n",
        "\n",
        "container = {} \n",
        "for var in text.split(): \n",
        "    if var in container: \n",
        "        container[var] += 1 \n",
        "    else: \n",
        "        container[var] = 1\n",
        "\n",
        "container"
      ],
      "metadata": {
        "colab": {
          "base_uri": "https://localhost:8080/"
        },
        "id": "OZbYIXdhe6uv",
        "outputId": "80ea9953-6252-4cdf-d3fc-06d4caf87793"
      },
      "execution_count": 39,
      "outputs": [
        {
          "output_type": "execute_result",
          "data": {
            "text/plain": [
              "{'and': 1, 'another': 1, 'cat': 5, 'drinks': 3, 'milk': 2, 'plays': 1}"
            ]
          },
          "metadata": {},
          "execution_count": 39
        }
      ]
    },
    {
      "cell_type": "code",
      "source": [
        "from collections import Counter"
      ],
      "metadata": {
        "id": "0h6Dv_9Tgpkv"
      },
      "execution_count": 13,
      "outputs": []
    },
    {
      "cell_type": "code",
      "source": [
        "Counter(text.split())"
      ],
      "metadata": {
        "colab": {
          "base_uri": "https://localhost:8080/"
        },
        "id": "nWOR5TCYgt7N",
        "outputId": "09c5c5c3-9800-47cf-9a55-9e6c0030e6bb"
      },
      "execution_count": 15,
      "outputs": [
        {
          "output_type": "execute_result",
          "data": {
            "text/plain": [
              "Counter({'and': 1, 'another': 1, 'cat': 5, 'drinks': 1, 'milk': 1, 'plays': 1})"
            ]
          },
          "metadata": {},
          "execution_count": 15
        }
      ]
    },
    {
      "cell_type": "code",
      "source": [
        "from collections import defaultdict\n",
        "\n",
        "container = defaultdict(int)\n",
        "for var in text.split(): \n",
        "    container[var] += 1 \n",
        "\n",
        "container"
      ],
      "metadata": {
        "colab": {
          "base_uri": "https://localhost:8080/"
        },
        "id": "us7q87-dOGyh",
        "outputId": "fdef6103-5a8b-45ce-a03b-2f960a3652df"
      },
      "execution_count": 19,
      "outputs": [
        {
          "output_type": "execute_result",
          "data": {
            "text/plain": [
              "defaultdict(int,\n",
              "            {'and': 1,\n",
              "             'another': 1,\n",
              "             'cat': 5,\n",
              "             'drinks': 1,\n",
              "             'milk': 1,\n",
              "             'plays': 1})"
            ]
          },
          "metadata": {},
          "execution_count": 19
        }
      ]
    },
    {
      "cell_type": "code",
      "source": [
        "container['cat']"
      ],
      "metadata": {
        "colab": {
          "base_uri": "https://localhost:8080/"
        },
        "id": "hhYdebW6PI93",
        "outputId": "2cbfca19-cc0b-45c7-b707-b2a49795b902"
      },
      "execution_count": 23,
      "outputs": [
        {
          "output_type": "execute_result",
          "data": {
            "text/plain": [
              "5"
            ]
          },
          "metadata": {},
          "execution_count": 23
        }
      ]
    },
    {
      "cell_type": "code",
      "source": [
        "container['cat'] = 1000000000"
      ],
      "metadata": {
        "id": "GEvrHNkSPL2o"
      },
      "execution_count": 24,
      "outputs": []
    },
    {
      "cell_type": "code",
      "source": [
        "container"
      ],
      "metadata": {
        "colab": {
          "base_uri": "https://localhost:8080/"
        },
        "id": "RYVAuujGPNtW",
        "outputId": "8c0b88e2-4b16-4b7c-9fea-a30088b1d193"
      },
      "execution_count": 25,
      "outputs": [
        {
          "output_type": "execute_result",
          "data": {
            "text/plain": [
              "defaultdict(int,\n",
              "            {'and': 1,\n",
              "             'another': 1,\n",
              "             'cat': 1000000000,\n",
              "             'drinks': 1,\n",
              "             'milk': 1,\n",
              "             'plays': 1})"
            ]
          },
          "metadata": {},
          "execution_count": 25
        }
      ]
    },
    {
      "cell_type": "markdown",
      "source": [
        "## 5"
      ],
      "metadata": {
        "id": "k_aJRJQiRpYd"
      }
    },
    {
      "cell_type": "code",
      "source": [
        "2+2"
      ],
      "metadata": {
        "colab": {
          "base_uri": "https://localhost:8080/"
        },
        "id": "MATcw5bShKkq",
        "outputId": "23357c99-895e-42cc-fa32-72053b0c9144"
      },
      "execution_count": 26,
      "outputs": [
        {
          "output_type": "execute_result",
          "data": {
            "text/plain": [
              "4"
            ]
          },
          "metadata": {},
          "execution_count": 26
        }
      ]
    },
    {
      "cell_type": "code",
      "source": [
        "2*3"
      ],
      "metadata": {
        "colab": {
          "base_uri": "https://localhost:8080/"
        },
        "id": "cHW5sQB_PYG9",
        "outputId": "ad1182a3-6521-4850-abf3-ba6cf225f97b"
      },
      "execution_count": 27,
      "outputs": [
        {
          "output_type": "execute_result",
          "data": {
            "text/plain": [
              "6"
            ]
          },
          "metadata": {},
          "execution_count": 27
        }
      ]
    },
    {
      "cell_type": "code",
      "source": [
        "'a'+'b'"
      ],
      "metadata": {
        "colab": {
          "base_uri": "https://localhost:8080/",
          "height": 35
        },
        "id": "Pcy0fpN2hKnR",
        "outputId": "1aef11e1-e7aa-4dba-c093-cc044d398ed2"
      },
      "execution_count": 28,
      "outputs": [
        {
          "output_type": "execute_result",
          "data": {
            "text/plain": [
              "'ab'"
            ],
            "application/vnd.google.colaboratory.intrinsic+json": {
              "type": "string"
            }
          },
          "metadata": {},
          "execution_count": 28
        }
      ]
    },
    {
      "cell_type": "code",
      "source": [
        "'a'*10"
      ],
      "metadata": {
        "colab": {
          "base_uri": "https://localhost:8080/",
          "height": 35
        },
        "id": "HBdkUgcPhKqJ",
        "outputId": "126d9d13-95c2-4bc1-b481-793281e8b15b"
      },
      "execution_count": 29,
      "outputs": [
        {
          "output_type": "execute_result",
          "data": {
            "text/plain": [
              "'aaaaaaaaaa'"
            ],
            "application/vnd.google.colaboratory.intrinsic+json": {
              "type": "string"
            }
          },
          "metadata": {},
          "execution_count": 29
        }
      ]
    },
    {
      "cell_type": "code",
      "source": [
        "def double_s(s):\n",
        "    return s * 2\n",
        "\n",
        "def add_letters(s):\n",
        "    s += \"a\"\n",
        "    return double_s(s) + 'c'\n",
        "\n",
        "def my_function(x):\n",
        "    return (x + 'a')*2 + 'c'\n",
        "\n",
        "# babac\n",
        "my_function('b')"
      ],
      "metadata": {
        "id": "CiKfu_bAhKtD",
        "colab": {
          "base_uri": "https://localhost:8080/",
          "height": 35
        },
        "outputId": "d02edd28-3af2-459b-c5b3-bc61ad6e0652"
      },
      "execution_count": 30,
      "outputs": [
        {
          "output_type": "execute_result",
          "data": {
            "text/plain": [
              "'babac'"
            ],
            "application/vnd.google.colaboratory.intrinsic+json": {
              "type": "string"
            }
          },
          "metadata": {},
          "execution_count": 30
        }
      ]
    },
    {
      "cell_type": "code",
      "source": [
        "my_function = lambda x: (x + 'a')*2 + 'c'\n",
        "my_function('BBBBB')"
      ],
      "metadata": {
        "id": "xVb9h5hYhp2N",
        "colab": {
          "base_uri": "https://localhost:8080/",
          "height": 35
        },
        "outputId": "60a68830-45a4-4731-8364-9d2f3acfe243"
      },
      "execution_count": 32,
      "outputs": [
        {
          "output_type": "execute_result",
          "data": {
            "text/plain": [
              "'BBBBBaBBBBBac'"
            ],
            "application/vnd.google.colaboratory.intrinsic+json": {
              "type": "string"
            }
          },
          "metadata": {},
          "execution_count": 32
        }
      ]
    },
    {
      "cell_type": "code",
      "source": [
        "sq = lambda x: x**2\n",
        "sq(9)"
      ],
      "metadata": {
        "colab": {
          "base_uri": "https://localhost:8080/"
        },
        "id": "1yf7ctoHQvva",
        "outputId": "b11977e9-69de-4435-8c2e-bfde346b506a"
      },
      "execution_count": 33,
      "outputs": [
        {
          "output_type": "execute_result",
          "data": {
            "text/plain": [
              "81"
            ]
          },
          "metadata": {},
          "execution_count": 33
        }
      ]
    },
    {
      "cell_type": "code",
      "source": [
        "sorted(container.items(), key=lambda x: (-x[1],x[0]), reverse=True)"
      ],
      "metadata": {
        "colab": {
          "base_uri": "https://localhost:8080/"
        },
        "id": "1pLBUDlvQ3DZ",
        "outputId": "76d7d096-27aa-4dcf-fe22-286d7a4fb74e"
      },
      "execution_count": 43,
      "outputs": [
        {
          "output_type": "execute_result",
          "data": {
            "text/plain": [
              "[('plays', 1),\n",
              " ('another', 1),\n",
              " ('and', 1),\n",
              " ('milk', 2),\n",
              " ('drinks', 3),\n",
              " ('cat', 5)]"
            ]
          },
          "metadata": {},
          "execution_count": 43
        }
      ]
    },
    {
      "cell_type": "code",
      "source": [
        "f = lambda x: x[1]\n",
        "\n",
        "c = ('cat', 1000000000)\n",
        "f(c)"
      ],
      "metadata": {
        "colab": {
          "base_uri": "https://localhost:8080/"
        },
        "id": "czJOqucVQ3Lf",
        "outputId": "a32ca957-ba82-4b55-9c89-d47540f7c5f4"
      },
      "execution_count": 38,
      "outputs": [
        {
          "output_type": "execute_result",
          "data": {
            "text/plain": [
              "1000000000"
            ]
          },
          "metadata": {},
          "execution_count": 38
        }
      ]
    },
    {
      "cell_type": "markdown",
      "source": [
        "## 6"
      ],
      "metadata": {
        "id": "6F9WDZsTR71t"
      }
    },
    {
      "cell_type": "code",
      "source": [
        "mark = int(input())\n",
        "\n",
        "# ваш код здесь\n",
        "\n",
        "if mark>=4:\n",
        "    print('ЗАЧЕТ')\n",
        "else:\n",
        "    print('НЕЗАЧЕТ')"
      ],
      "metadata": {
        "colab": {
          "base_uri": "https://localhost:8080/"
        },
        "id": "TMRkHhnYibHR",
        "outputId": "059aebf9-7942-470f-af86-3647ed51ee41"
      },
      "execution_count": 44,
      "outputs": [
        {
          "output_type": "stream",
          "name": "stdout",
          "text": [
            "8\n",
            "ЗАЧЕТ\n"
          ]
        }
      ]
    },
    {
      "cell_type": "code",
      "source": [
        "print('ЗАЧЕТ' if mark>=4 else 'НЕЗАЧЕТ')"
      ],
      "metadata": {
        "colab": {
          "base_uri": "https://localhost:8080/"
        },
        "id": "znahqhsTR4gE",
        "outputId": "2410a6b6-4237-4a58-a8d9-3a66f7984982"
      },
      "execution_count": 47,
      "outputs": [
        {
          "output_type": "stream",
          "name": "stdout",
          "text": [
            "ЗАЧЕТ\n"
          ]
        }
      ]
    },
    {
      "cell_type": "markdown",
      "source": [
        "## 7"
      ],
      "metadata": {
        "id": "xK2SBVToShEA"
      }
    },
    {
      "cell_type": "code",
      "source": [
        "N1 = int(input())\n",
        "N2 = int(input())\n",
        "\n"
      ],
      "metadata": {
        "colab": {
          "base_uri": "https://localhost:8080/"
        },
        "id": "540B6k3Hjsfa",
        "outputId": "f75dfc75-8d42-4a27-8644-2dacef0b733a"
      },
      "execution_count": 52,
      "outputs": [
        {
          "name": "stdout",
          "output_type": "stream",
          "text": [
            "2\n",
            "10\n"
          ]
        }
      ]
    },
    {
      "cell_type": "code",
      "source": [
        "7//2, 7%2"
      ],
      "metadata": {
        "colab": {
          "base_uri": "https://localhost:8080/"
        },
        "id": "u1lEzewZj4gU",
        "outputId": "43bf2b65-1e85-4467-a830-2d67cadf61c2"
      },
      "execution_count": 48,
      "outputs": [
        {
          "output_type": "execute_result",
          "data": {
            "text/plain": [
              "(3, 1)"
            ]
          },
          "metadata": {},
          "execution_count": 48
        }
      ]
    },
    {
      "cell_type": "code",
      "source": [
        "# ваше решение здесь\n",
        "\n",
        "for number in range(N1, N2+1):\n",
        "    if number%2==0:\n",
        "        print(number**2)"
      ],
      "metadata": {
        "colab": {
          "base_uri": "https://localhost:8080/"
        },
        "id": "CYCr3W4fj0mu",
        "outputId": "2b2a6b17-5337-4b04-d71a-91b950cf78dd"
      },
      "execution_count": 53,
      "outputs": [
        {
          "output_type": "stream",
          "name": "stdout",
          "text": [
            "4\n",
            "16\n",
            "36\n",
            "64\n",
            "100\n"
          ]
        }
      ]
    },
    {
      "cell_type": "markdown",
      "source": [
        "## 8"
      ],
      "metadata": {
        "id": "M96Bmbg7S4gP"
      }
    },
    {
      "cell_type": "code",
      "source": [
        "names = input().split()\n",
        "fruits = input().split()\n"
      ],
      "metadata": {
        "colab": {
          "base_uri": "https://localhost:8080/"
        },
        "id": "ifT3pAPaklQq",
        "outputId": "b2b5502d-470c-414c-8b6b-6152e7a658b3"
      },
      "execution_count": 54,
      "outputs": [
        {
          "name": "stdout",
          "output_type": "stream",
          "text": [
            "й ц у\n",
            "ф ы в\n"
          ]
        }
      ]
    },
    {
      "cell_type": "code",
      "source": [
        "for i in range(len(names)):\n",
        "    #print(names[i], 'любит', fruits[i])\n",
        "    print(f'человек по имени {names[i]} - номер {i} - любит фрукт {fruits[i]} - ура!')\n"
      ],
      "metadata": {
        "colab": {
          "base_uri": "https://localhost:8080/"
        },
        "id": "sbB9UocRklo9",
        "outputId": "74a21397-9a31-4bc5-f3bd-7c6973d638f4"
      },
      "execution_count": 60,
      "outputs": [
        {
          "output_type": "stream",
          "name": "stdout",
          "text": [
            "человек по имени й - номер 0 - любит фрукт ф - ура!\n",
            "человек по имени ц - номер 1 - любит фрукт ы - ура!\n",
            "человек по имени у - номер 2 - любит фрукт в - ура!\n"
          ]
        }
      ]
    },
    {
      "cell_type": "markdown",
      "source": [
        "## 9"
      ],
      "metadata": {
        "id": "WnDDcU5OS6Wv"
      }
    },
    {
      "cell_type": "code",
      "source": [
        "word = 'кот'\n",
        "letter = 'к'\n",
        "\n",
        "word[0] == letter"
      ],
      "metadata": {
        "colab": {
          "base_uri": "https://localhost:8080/"
        },
        "id": "rj10kHs_kw-5",
        "outputId": "2b630fba-db31-4f58-c7b9-9944ffdd7bff"
      },
      "execution_count": 62,
      "outputs": [
        {
          "output_type": "execute_result",
          "data": {
            "text/plain": [
              "True"
            ]
          },
          "metadata": {},
          "execution_count": 62
        }
      ]
    },
    {
      "cell_type": "code",
      "source": [
        "word = 'кот'\n",
        "letter = 'к'\n",
        "\n",
        "if word[0] == letter:\n",
        "    answer = True\n",
        "else:\n",
        "    answer = False\n",
        "print(answer)"
      ],
      "metadata": {
        "colab": {
          "base_uri": "https://localhost:8080/"
        },
        "id": "PBCIXZaTUtlf",
        "outputId": "90d27dd5-98f7-4de2-a708-e702be156af4"
      },
      "execution_count": 63,
      "outputs": [
        {
          "output_type": "stream",
          "name": "stdout",
          "text": [
            "True\n"
          ]
        }
      ]
    },
    {
      "cell_type": "code",
      "source": [
        "def check_first_letter(word, letter):\n",
        "    return word[0] == letter"
      ],
      "metadata": {
        "id": "i5SeLJGGlX-a"
      },
      "execution_count": 64,
      "outputs": []
    },
    {
      "cell_type": "code",
      "source": [
        "def check_first_letter(word, letter):\n",
        "    if word[0] == letter:\n",
        "        return f'ура это слово начинается с буквы {letter}'\n",
        "    else:\n",
        "        return 'о нет'"
      ],
      "metadata": {
        "id": "X0PgujEQmvDv"
      },
      "execution_count": 65,
      "outputs": []
    },
    {
      "cell_type": "code",
      "source": [
        "def check_first_letter(word, letter):\n",
        "    return f'ура это слово начинается с буквы {letter}' if word[0] == letter else 'о нет'"
      ],
      "metadata": {
        "id": "O7oRFijUnC-Y"
      },
      "execution_count": 66,
      "outputs": []
    },
    {
      "cell_type": "code",
      "source": [
        "check_first_letter('кот', 'к')"
      ],
      "metadata": {
        "colab": {
          "base_uri": "https://localhost:8080/",
          "height": 35
        },
        "id": "0dRj3vQJm0pr",
        "outputId": "fc19858c-ae5f-4aa3-ab79-479c534660fd"
      },
      "execution_count": 67,
      "outputs": [
        {
          "output_type": "execute_result",
          "data": {
            "text/plain": [
              "'ура это слово начинается с буквы к'"
            ],
            "application/vnd.google.colaboratory.intrinsic+json": {
              "type": "string"
            }
          },
          "metadata": {},
          "execution_count": 67
        }
      ]
    },
    {
      "cell_type": "markdown",
      "source": [
        "## 10"
      ],
      "metadata": {
        "id": "RKYBgLlZVV66"
      }
    },
    {
      "cell_type": "markdown",
      "source": [
        "### вариант 1"
      ],
      "metadata": {
        "id": "cgep4xh9ZrqY"
      }
    },
    {
      "cell_type": "code",
      "source": [
        "dic = {}\n",
        "s= []\n",
        "while True:\n",
        "    a = input()\n",
        "    if a == 'END':\n",
        "        break\n",
        "    name, ticket = a.split('; ')\n",
        "    dic[ticket] = name\n",
        "b = input().split()\n",
        "for i in b:\n",
        "    if i in dic and i not in s:\n",
        "        s.append(dic[i])\n",
        "print(*sorted(s))\n",
        "\n",
        "# Harry; 20\n",
        "# Hermione; 15\n",
        "# Ron; 12\n",
        "# Harry; 21\n",
        "# Ron; 8\n",
        "# Hermione; 33\n",
        "# Hermione; 11\n",
        "# END\n",
        "# 15 21 11\n",
        "    \n"
      ],
      "metadata": {
        "colab": {
          "base_uri": "https://localhost:8080/"
        },
        "id": "wMgJ2f_hWGe1",
        "outputId": "587d2d85-1f20-49e2-9fdc-75ae4dd151dc"
      },
      "execution_count": 68,
      "outputs": [
        {
          "output_type": "stream",
          "name": "stdout",
          "text": [
            "Harry; 20\n",
            "Hermione; 15\n",
            "Ron; 12\n",
            "Harry; 21\n",
            "Ron; 8\n",
            "Hermione; 33\n",
            "Hermione; 11\n",
            "END\n",
            "15 21 11\n",
            "['Harry', 'Hermione']\n"
          ]
        }
      ]
    },
    {
      "cell_type": "code",
      "source": [
        "print(s, sep='_____')"
      ],
      "metadata": {
        "colab": {
          "base_uri": "https://localhost:8080/"
        },
        "id": "TA4gZQ6uYx0R",
        "outputId": "343cd045-1bff-47f5-c15b-7d9f7efcf652"
      },
      "execution_count": 72,
      "outputs": [
        {
          "output_type": "stream",
          "name": "stdout",
          "text": [
            "['Hermione', 'Harry', 'Hermione']\n"
          ]
        }
      ]
    },
    {
      "cell_type": "code",
      "source": [
        "print(*s, sep='_____')"
      ],
      "metadata": {
        "colab": {
          "base_uri": "https://localhost:8080/"
        },
        "id": "SQs66iM3Weo5",
        "outputId": "cc95c703-f9b9-4b38-a32f-fa68b0806834"
      },
      "execution_count": 73,
      "outputs": [
        {
          "output_type": "stream",
          "name": "stdout",
          "text": [
            "Hermione_____Harry_____Hermione\n"
          ]
        }
      ]
    },
    {
      "cell_type": "code",
      "source": [
        "print(1,2,3, sep='_____')"
      ],
      "metadata": {
        "colab": {
          "base_uri": "https://localhost:8080/"
        },
        "id": "UiGYmrRxWerU",
        "outputId": "46348189-dfad-4e4a-f040-cca4c2202c1a"
      },
      "execution_count": 74,
      "outputs": [
        {
          "output_type": "stream",
          "name": "stdout",
          "text": [
            "1_____2_____3\n"
          ]
        }
      ]
    },
    {
      "cell_type": "markdown",
      "source": [
        "### вариант 2.1"
      ],
      "metadata": {
        "id": "hzkRMIoaZo5m"
      }
    },
    {
      "cell_type": "code",
      "source": [
        "d = {}\n",
        "name_ticket = input()\n",
        "while name_ticket != 'END':\n",
        "    name,ticket = name_ticket.split('; ')\n",
        "    if name not in d:\n",
        "        d[name] = []\n",
        "        d[name].append(ticket)\n",
        "    else:\n",
        "        d[name].append(ticket)\n",
        "    name_ticket = input()"
      ],
      "metadata": {
        "colab": {
          "base_uri": "https://localhost:8080/"
        },
        "id": "a-hU14iLpt8a",
        "outputId": "56482835-8e51-4807-ecc1-89e8a2a419ac"
      },
      "execution_count": 77,
      "outputs": [
        {
          "name": "stdout",
          "output_type": "stream",
          "text": [
            "a; 1\n",
            "a; 2\n",
            "a; 3\n",
            "b; 1\n",
            "c; 2\n",
            "d; 3\n",
            "END\n"
          ]
        }
      ]
    },
    {
      "cell_type": "code",
      "source": [
        "winner = input().split()"
      ],
      "metadata": {
        "colab": {
          "base_uri": "https://localhost:8080/"
        },
        "id": "w3p1fD7RaRxt",
        "outputId": "8d9c2ba6-766c-4499-f9d1-1e24fc42e5f4"
      },
      "execution_count": 78,
      "outputs": [
        {
          "name": "stdout",
          "output_type": "stream",
          "text": [
            "1 2\n"
          ]
        }
      ]
    },
    {
      "cell_type": "code",
      "source": [
        "d"
      ],
      "metadata": {
        "colab": {
          "base_uri": "https://localhost:8080/"
        },
        "id": "Uq9LIFiPpt-m",
        "outputId": "2c73b30a-9ddd-4af2-e8ea-3a7b8e655151"
      },
      "execution_count": 79,
      "outputs": [
        {
          "output_type": "execute_result",
          "data": {
            "text/plain": [
              "{'a': ['1', '2', '3'], 'b': ['1'], 'c': ['2'], 'd': ['3']}"
            ]
          },
          "metadata": {},
          "execution_count": 79
        }
      ]
    },
    {
      "cell_type": "markdown",
      "source": [
        "### вариант 2.2"
      ],
      "metadata": {
        "id": "gFFLGohWa1kE"
      }
    },
    {
      "cell_type": "code",
      "source": [
        "from collections import defaultdict\n",
        "\n",
        "d = defaultdict(list)\n",
        "name_ticket = input()\n",
        "while name_ticket != 'END':\n",
        "    name,ticket = name_ticket.split('; ')\n",
        "    d[name].append(ticket)\n",
        "    name_ticket = input()\n",
        "\n",
        "winner = input().split()"
      ],
      "metadata": {
        "id": "rOX-IawzpuAz"
      },
      "execution_count": null,
      "outputs": []
    },
    {
      "cell_type": "code",
      "source": [
        "a = []\n",
        "for name in d:\n",
        "    for ticket in d[name]:\n",
        "        if ticket in winner:\n",
        "            a.append(name)\n",
        "print(*sorted(set(a)), sep=', ')"
      ],
      "metadata": {
        "colab": {
          "base_uri": "https://localhost:8080/"
        },
        "id": "s85EjljhqY--",
        "outputId": "7044618e-0fc5-49b5-b6c6-1d845f266d67"
      },
      "execution_count": 81,
      "outputs": [
        {
          "output_type": "stream",
          "name": "stdout",
          "text": [
            "a, b, c\n"
          ]
        }
      ]
    },
    {
      "cell_type": "code",
      "source": [
        "a = []\n",
        "for name in d:\n",
        "    if len(set(d[name]) & set(winner)) >= 1:\n",
        "        a.append(name)\n",
        "print(*sorted(a), sep=', ')"
      ],
      "metadata": {
        "id": "6krQ6Jt7tUEn"
      },
      "execution_count": null,
      "outputs": []
    },
    {
      "cell_type": "markdown",
      "source": [
        "## 11"
      ],
      "metadata": {
        "id": "ZrIYskPaa9Z5"
      }
    },
    {
      "cell_type": "code",
      "source": [
        "d = {\n",
        "    'Harry Potter': [7, 6, 8, 6, 6],\n",
        "    'Hermione Granger': [10, 10, 9, 10, 10, 9, 9],\n",
        "    'Ron Weasley': [6, 5, 7, 4, 5],\n",
        "    'Ginny Weasley': [9, 7, 8]\n",
        "}"
      ],
      "metadata": {
        "id": "g_4xUQWSvAN7"
      },
      "execution_count": 91,
      "outputs": []
    },
    {
      "cell_type": "code",
      "source": [
        "def get_excellent(d):\n",
        "    good = []\n",
        "    for student in d:\n",
        "        if sum(d[student])/len(d[student]) >= 8:\n",
        "            good.append(student)\n",
        "    return sorted(good)"
      ],
      "metadata": {
        "id": "ROIifdQzz6h4"
      },
      "execution_count": null,
      "outputs": []
    },
    {
      "cell_type": "code",
      "source": [
        "[i for i in range(2,8)]"
      ],
      "metadata": {
        "colab": {
          "base_uri": "https://localhost:8080/"
        },
        "id": "7vpJY2ixz5Vb",
        "outputId": "31aa9637-e081-4c54-bb4b-c833b9b702c9"
      },
      "execution_count": 83,
      "outputs": [
        {
          "output_type": "execute_result",
          "data": {
            "text/plain": [
              "[2, 3, 4, 5, 6, 7]"
            ]
          },
          "metadata": {},
          "execution_count": 83
        }
      ]
    },
    {
      "cell_type": "code",
      "source": [
        "[(i, i**2, i**3) for i in range(2,8)]"
      ],
      "metadata": {
        "colab": {
          "base_uri": "https://localhost:8080/"
        },
        "id": "fqZSX67dz5Xl",
        "outputId": "02ed6b5b-ea60-4eea-b6c6-e205d5e66d1f"
      },
      "execution_count": 87,
      "outputs": [
        {
          "output_type": "execute_result",
          "data": {
            "text/plain": [
              "[(2, 4, 8), (3, 9, 27), (4, 16, 64), (5, 25, 125), (6, 36, 216), (7, 49, 343)]"
            ]
          },
          "metadata": {},
          "execution_count": 87
        }
      ]
    },
    {
      "cell_type": "code",
      "source": [
        "[(i, i**2, i**3) for i in range(2,8) if i%2==0]"
      ],
      "metadata": {
        "colab": {
          "base_uri": "https://localhost:8080/"
        },
        "id": "aktmiJi5vBCm",
        "outputId": "90057edf-a16f-49c2-f111-fd3e3addec85"
      },
      "execution_count": 89,
      "outputs": [
        {
          "output_type": "execute_result",
          "data": {
            "text/plain": [
              "[(2, 4, 8), (4, 16, 64), (6, 36, 216)]"
            ]
          },
          "metadata": {},
          "execution_count": 89
        }
      ]
    },
    {
      "cell_type": "code",
      "source": [
        "[key for key, value in d.items()]"
      ],
      "metadata": {
        "colab": {
          "base_uri": "https://localhost:8080/"
        },
        "id": "b1sX2QJKgI46",
        "outputId": "c37031bc-4267-4c43-ad38-61fb544d68c7"
      },
      "execution_count": 94,
      "outputs": [
        {
          "output_type": "execute_result",
          "data": {
            "text/plain": [
              "['Harry Potter', 'Hermione Granger', 'Ron Weasley', 'Ginny Weasley']"
            ]
          },
          "metadata": {},
          "execution_count": 94
        }
      ]
    },
    {
      "cell_type": "code",
      "source": [
        "{tuple(value):key for key, value in d.items()}"
      ],
      "metadata": {
        "colab": {
          "base_uri": "https://localhost:8080/"
        },
        "id": "8O3ulmZDgReg",
        "outputId": "bf795a09-bd2c-4419-fc5d-5bf5ddbdbda2"
      },
      "execution_count": 97,
      "outputs": [
        {
          "output_type": "execute_result",
          "data": {
            "text/plain": [
              "{(6, 5, 7, 4, 5): 'Ron Weasley',\n",
              " (7, 6, 8, 6, 6): 'Harry Potter',\n",
              " (9, 7, 8): 'Ginny Weasley',\n",
              " (10, 10, 9, 10, 10, 9, 9): 'Hermione Granger'}"
            ]
          },
          "metadata": {},
          "execution_count": 97
        }
      ]
    },
    {
      "cell_type": "code",
      "source": [
        "def get_excellent(d):\n",
        "    return sorted([student for student in d if sum(d[student])/len(d[student]) >= 8] )"
      ],
      "metadata": {
        "colab": {
          "base_uri": "https://localhost:8080/"
        },
        "id": "R-Cx0vJEga6e",
        "outputId": "e5f8262f-ac8c-496f-e033-efc3a60b27be"
      },
      "execution_count": 100,
      "outputs": [
        {
          "output_type": "execute_result",
          "data": {
            "text/plain": [
              "['Ginny Weasley', 'Hermione Granger']"
            ]
          },
          "metadata": {},
          "execution_count": 100
        }
      ]
    },
    {
      "cell_type": "markdown",
      "source": [
        "## 12"
      ],
      "metadata": {
        "id": "MOWSDK0PhBwW"
      }
    },
    {
      "cell_type": "markdown",
      "source": [
        "### вариант 1"
      ],
      "metadata": {
        "id": "lEVWHJnUy1Ci"
      }
    },
    {
      "cell_type": "code",
      "source": [
        "with open('apartments.csv') as f:\n",
        "    table = f.read()\n",
        "\n",
        "table = table.split('\\n')[:-1]\n",
        "table"
      ],
      "metadata": {
        "colab": {
          "base_uri": "https://localhost:8080/"
        },
        "id": "cHIWQGc3hCmB",
        "outputId": "4b8d41d2-941b-447b-fea2-1ae7f60c6044"
      },
      "execution_count": 124,
      "outputs": [
        {
          "output_type": "execute_result",
          "data": {
            "text/plain": [
              "['67200,2,Войковская,52611',\n",
              " '69948,2,Войковская,40738',\n",
              " '95313,1,Бабушкинская,48313',\n",
              " '77793,3,Академическая,43650',\n",
              " '23846,3,Профсоюзная,45192',\n",
              " '38750,4,Войковская,48921',\n",
              " '66145,2,Октябрьское Поле,36477',\n",
              " '29028,3,Войковская,32382',\n",
              " '15129,3,Бабушкинская,39585',\n",
              " '88761,4,Профсоюзная,34029',\n",
              " '16212,3,Свиблово,36241',\n",
              " '32034,4,Свиблово,45514',\n",
              " '50029,1,Войковская,35799',\n",
              " '42201,1,Октябрьское Поле,54261',\n",
              " '49627,3,Бабушкинская,33404',\n",
              " '29759,3,Свиблово,59366',\n",
              " '16826,2,Октябрьское Поле,52460',\n",
              " '73123,4,Войковская,40730',\n",
              " '15497,1,Октябрьское Поле,45117',\n",
              " '97979,1,Свиблово,36418',\n",
              " '42723,4,Свиблово,52948',\n",
              " '36781,3,Сокол,41062',\n",
              " '93023,4,Бабушкинская,39861',\n",
              " '46173,1,Войковская,51202',\n",
              " '68462,3,Октябрьское Поле,45792',\n",
              " '31295,3,Академическая,58546',\n",
              " '43863,4,Академическая,52354',\n",
              " '21383,3,Бабушкинская,30854',\n",
              " '45908,4,Академическая,33475',\n",
              " '46828,4,Сокол,34421',\n",
              " '67212,2,Сокол,40893',\n",
              " '21700,4,Октябрьское Поле,37774',\n",
              " '54687,3,Сокол,49489',\n",
              " '46062,2,Свиблово,26303',\n",
              " '46902,3,Сокол,25178',\n",
              " '46552,1,Сокол,33149',\n",
              " '81544,2,Октябрьское Поле,56647',\n",
              " '25345,1,Свиблово,50594',\n",
              " '94268,1,Войковская,34312',\n",
              " '51894,4,Свиблово,45361',\n",
              " '30979,4,Свиблово,26368',\n",
              " '94824,1,Профсоюзная,26371',\n",
              " '80394,3,Сокол,29543',\n",
              " '63905,2,Бабушкинская,40060',\n",
              " '51295,3,Свиблово,30696',\n",
              " '22676,1,Сокол,45917',\n",
              " '61033,3,Бабушкинская,29796',\n",
              " '42783,3,Свиблово,26113',\n",
              " '77057,4,Октябрьское Поле,56464',\n",
              " '13225,1,Свиблово,47990',\n",
              " '57386,3,Сокол,38675',\n",
              " '25962,2,Войковская,33314',\n",
              " '69769,4,Свиблово,28045',\n",
              " '88669,1,Войковская,33793',\n",
              " '13478,1,Войковская,28697',\n",
              " '28469,4,Бабушкинская,31315',\n",
              " '79188,1,Академическая,45087']"
            ]
          },
          "metadata": {},
          "execution_count": 124
        }
      ]
    },
    {
      "cell_type": "code",
      "source": [
        "metro = input()"
      ],
      "metadata": {
        "colab": {
          "base_uri": "https://localhost:8080/"
        },
        "id": "kyTFQey7hrla",
        "outputId": "56c3ca70-01d3-436b-f0e5-b1cdaf0448dc"
      },
      "execution_count": 125,
      "outputs": [
        {
          "name": "stdout",
          "output_type": "stream",
          "text": [
            "Войковская\n"
          ]
        }
      ]
    },
    {
      "cell_type": "code",
      "source": [
        "filtered = [line.split(',') for line in table if line.split(',')[2]==metro]\n",
        "filtered"
      ],
      "metadata": {
        "colab": {
          "base_uri": "https://localhost:8080/"
        },
        "id": "MGCnEPJLhRBd",
        "outputId": "affca772-0ee2-4372-8b7c-51422a737873"
      },
      "execution_count": 126,
      "outputs": [
        {
          "output_type": "execute_result",
          "data": {
            "text/plain": [
              "[['67200', '2', 'Войковская', '52611'],\n",
              " ['69948', '2', 'Войковская', '40738'],\n",
              " ['38750', '4', 'Войковская', '48921'],\n",
              " ['29028', '3', 'Войковская', '32382'],\n",
              " ['50029', '1', 'Войковская', '35799'],\n",
              " ['73123', '4', 'Войковская', '40730'],\n",
              " ['46173', '1', 'Войковская', '51202'],\n",
              " ['94268', '1', 'Войковская', '34312'],\n",
              " ['25962', '2', 'Войковская', '33314'],\n",
              " ['88669', '1', 'Войковская', '33793'],\n",
              " ['13478', '1', 'Войковская', '28697']]"
            ]
          },
          "metadata": {},
          "execution_count": 126
        }
      ]
    },
    {
      "cell_type": "code",
      "source": [
        "filtered_sorted = sorted(filtered, key=lambda x: x[3])"
      ],
      "metadata": {
        "id": "azG1nGAsiIwm"
      },
      "execution_count": 127,
      "outputs": []
    },
    {
      "cell_type": "code",
      "source": [
        "with open(' filtered-apartments.csv', 'w+') as f:\n",
        "    f.write('\\n'.join([','.join(x) for x in filtered]))"
      ],
      "metadata": {
        "id": "g6UBNU2wiRdM"
      },
      "execution_count": 128,
      "outputs": []
    },
    {
      "cell_type": "markdown",
      "source": [
        "### вариант 2"
      ],
      "metadata": {
        "id": "I4zeOhoTyu4R"
      }
    },
    {
      "cell_type": "code",
      "source": [
        "with open('apartments.csv') as f:\n",
        "    table = f.read()\n",
        "metro_of_interest = input()\n",
        "\n",
        "\n",
        "table = table.split('\\n')[:-1]\n",
        "filtered = []\n",
        "for line in table:\n",
        "    id, rooms, metro, price = line.split(',')\n",
        "    if metro == metro_of_interest:\n",
        "        filtered.append([id, rooms, metro, price])\n",
        "\n",
        "# filtered = [line.split(',') for line in table if line.split(',')[2]==metro]\n"
      ],
      "metadata": {
        "colab": {
          "base_uri": "https://localhost:8080/"
        },
        "id": "gQNRHtXIi6pp",
        "outputId": "577165ad-ded1-4a58-b746-e6ac8559a09d"
      },
      "execution_count": 132,
      "outputs": [
        {
          "name": "stdout",
          "output_type": "stream",
          "text": [
            "Сокол\n"
          ]
        }
      ]
    },
    {
      "cell_type": "code",
      "source": [
        "filtered_sorted"
      ],
      "metadata": {
        "colab": {
          "base_uri": "https://localhost:8080/"
        },
        "id": "AbPB5ftHkOE-",
        "outputId": "1908c2cd-e090-4890-f028-da60a55a60aa"
      },
      "execution_count": 140,
      "outputs": [
        {
          "output_type": "execute_result",
          "data": {
            "text/plain": [
              "[['46902', '3', 'Сокол', '25178'],\n",
              " ['80394', '3', 'Сокол', '29543'],\n",
              " ['46552', '1', 'Сокол', '33149'],\n",
              " ['46828', '4', 'Сокол', '34421'],\n",
              " ['57386', '3', 'Сокол', '38675'],\n",
              " ['67212', '2', 'Сокол', '40893'],\n",
              " ['36781', '3', 'Сокол', '41062'],\n",
              " ['22676', '1', 'Сокол', '45917'],\n",
              " ['54687', '3', 'Сокол', '49489']]"
            ]
          },
          "metadata": {},
          "execution_count": 140
        }
      ]
    },
    {
      "cell_type": "code",
      "source": [
        "filtered_sorted = sorted(filtered, key=lambda x: int(x[3]))\n",
        "\n",
        "with open('filtered-apartments.csv', 'w+') as f:\n",
        "    f.writelines([','.join(x)+'\\n' for x in filtered_sorted])"
      ],
      "metadata": {
        "id": "jTEYJ-hhkQkO"
      },
      "execution_count": 139,
      "outputs": []
    },
    {
      "cell_type": "code",
      "source": [
        ""
      ],
      "metadata": {
        "id": "NVHTugf4kgnE"
      },
      "execution_count": 137,
      "outputs": []
    }
  ]
}